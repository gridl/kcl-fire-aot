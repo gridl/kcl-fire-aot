{
 "cells": [
  {
   "cell_type": "markdown",
   "metadata": {},
   "source": [
    "# Fire Radiative Energy to Total Particulate Matter Workbook\n",
    "\n",
    "This workbook develops the workflow for generating estiamtes of total particulate matter (TPM) from observations of fire radiative energy (FRE).  The FRE observations are derived from time integrated observations of fire radiative power (FRP), which is a measure of the amount of energy emitted by a fire per unit time and has units $Wm^{-2}$.  In order integrate over time we need observations of the FRP through time, and therefore rely on observations of fires from geostrationary sensors, in particular: SEVIRI over Africa/Europe; GOES over North and South America; Himawari over Asia and Oceania.  Which provide observations at 15, 30 and 10 minute intervals respectively.  \n",
    "\n",
    "The TPM ($gm^{-2}$) observations are required to be instantaneous only, as such they can be derived from polar orbiting sensors.   The TPM estimates are derived from optical depth (OD, unitless) estimates taken from the smoke plumes associated with a fire as the ratio OD to the mass extinction coffecient ($m^{2}g^{-1}$).  As such for TPM we need two parameters.  OD is a commonly retrived parameters from remotely sensed optical imagery, for example MODIS has a number of products which come under the MOD04/MYD04 product classification.  The mass extinction coefficient is typically derived from in-situ observations. \n",
    "\n",
    "The basic premise is to develop FRE observations for a set of fires, specifcally selecting fires with clear and definable smoke plumes, calculating the TPM for these plumes and finally deriving a linear relation between the FRE and the TPM.  Once this relation is defined it is then possible to determine the TPM directly from observations of FRE.\n",
    "\n",
    "Here we explore the development of this relation."
   ]
  },
  {
   "cell_type": "code",
   "execution_count": 1,
   "metadata": {
    "collapsed": true
   },
   "outputs": [],
   "source": [
    "# load in required packages\n",
    "import ast\n",
    "import glob\n",
    "import os\n",
    "import re\n",
    "from datetime import datetime, timedelta\n",
    "\n",
    "import pandas as pd\n",
    "import numpy as np\n",
    "from netCDF4 import Dataset\n",
    "from pyhdf.SD import SD, SDC\n",
    "from matplotlib.path import Path\n",
    "from scipy import stats\n",
    "from scipy import integrate\n",
    "from shapely.geometry import Polygon, Point\n",
    "from shapely.ops import transform\n",
    "from mpl_toolkits.basemap import Basemap\n",
    "import pyresample as pr\n",
    "import pyproj\n",
    "\n",
    "import src.config.filepaths as filepaths\n",
    "import src.config.sensor as sensor\n",
    "\n",
    "import matplotlib.pyplot as plt\n",
    "import scipy.ndimage as ndimage"
   ]
  },
  {
   "cell_type": "code",
   "execution_count": 23,
   "metadata": {
    "collapsed": true
   },
   "outputs": [],
   "source": [
    "root_path = '/Users/dnf/Projects/kcl-fire-aot/data/'"
   ]
  },
  {
   "cell_type": "markdown",
   "metadata": {},
   "source": [
    "Load in the FRP data:"
   ]
  },
  {
   "cell_type": "code",
   "execution_count": 3,
   "metadata": {
    "collapsed": true
   },
   "outputs": [],
   "source": [
    "def load_frp():\n",
    "    if sensor.sensor == 'himawari':\n",
    "        try:\n",
    "            frp_df = pd.read_pickle(filepaths.path_to_himawari_frp + 'himawari_df.p')\n",
    "        except Exception, e:\n",
    "            print('could not load frp dataframe, failed with error ' + str(e) + ' building anew')\n",
    "            frp_files = os.listdir(filepaths.path_to_himawari_frp)\n",
    "            df_from_each_file = (pd.read_csv(os.path.join(filepaths.path_to_himawari_frp, f)) for f in frp_files)\n",
    "            frp_df = pd.concat(df_from_each_file, ignore_index=True)\n",
    "\n",
    "            # lets dump the columns we don't want\n",
    "            frp_df = frp_df[['FIRE_CONFIDENCE', 'FRP_0', 'LATITUDE', 'LONGITUDE', 'year','month','day','time']]\n",
    "\n",
    "            # make geocoords into shapely points\n",
    "            points = [Point(p[0], p[1]) for p in zip(frp_df['LONGITUDE'].values, frp_df['LATITUDE'].values)]\n",
    "            frp_df['point'] = points\n",
    "            frp_df.drop(['LONGITUDE', 'LATITUDE'], axis=1, inplace=True)\n",
    "\n",
    "            # reindex onto date\n",
    "            for k in ['year', 'month', 'day', 'time']:\n",
    "                frp_df[k] = frp_df[k].astype(int).astype(str)\n",
    "                if k == 'time':\n",
    "                    frp_df[k] = frp_df[k].str.zfill(4)\n",
    "                if k in ['month', 'day']:\n",
    "                    frp_df[k] = frp_df[k].str.zfill(2)\n",
    "\n",
    "            format = '%Y%m%d%H%M'\n",
    "            frp_df['obs_time'] = pd.to_datetime(frp_df['year'] +\n",
    "                                             frp_df['month'] +\n",
    "                                             frp_df['day'] + \n",
    "                                             frp_df['time'], format=format)\n",
    "            frp_df['obs_date'] = frp_df['obs_time'].dt.date\n",
    "            frp_df.drop(['year','month','day', 'time'], axis=1, inplace=True)\n",
    "            \n",
    "            frp_df.to_pickle(filepaths.path_to_himawari_frp + 'himawari_df.p')\n",
    "\n",
    "    elif sensor.sensor == 'goes':\n",
    "        pass\n",
    "\n",
    "    return frp_df\n",
    "frp_data = load_frp()"
   ]
  },
  {
   "cell_type": "markdown",
   "metadata": {},
   "source": [
    "Load in the smoke plume masks:"
   ]
  },
  {
   "cell_type": "code",
   "execution_count": 24,
   "metadata": {
    "collapsed": true
   },
   "outputs": [],
   "source": [
    "mask_path = root_path + 'Asia/processed/plume_masks/myd021km_plumes_df.pickle'\n",
    "try:\n",
    "    mask_df = pd.read_pickle(mask_path)\n",
    "except:\n",
    "    mask_df = pd.read_csv(mask_path, quotechar='\"', sep=',', converters={'plume_extent': ast.literal_eval})"
   ]
  },
  {
   "cell_type": "markdown",
   "metadata": {},
   "source": [
    "Here are the funcitons used to compute the FRE from the FRP contained within the plume:"
   ]
  },
  {
   "cell_type": "code",
   "execution_count": 25,
   "metadata": {
    "collapsed": true
   },
   "outputs": [],
   "source": [
    "def build_polygon(plume, lats, lons):\n",
    "\n",
    "    # when digitising points are appended (x,y).  However, arrays are accessed\n",
    "    # in numpy as row, col which is y, x.  So we need to switch\n",
    "    bounding_lats = [lats[point[1], point[0]] for point in plume.plume_extent]\n",
    "    bounding_lons = [lons[point[1], point[0]] for point in plume.plume_extent]\n",
    "\n",
    "    return Polygon(zip(bounding_lons, bounding_lats))"
   ]
  },
  {
   "cell_type": "code",
   "execution_count": 6,
   "metadata": {
    "collapsed": true
   },
   "outputs": [],
   "source": [
    "def compute_fre(plume, frp_data):\n",
    "    \n",
    "    # load in lats and lons for plume polygon\n",
    "    myd_data = SD(os.path.join(filepaths.path_to_modis_l1b, plume.filename), SDC.READ)\n",
    "    lats = ndimage.zoom(myd_data.select('Latitude').get(), 5)\n",
    "    lons = ndimage.zoom(myd_data.select('Longitude').get(), 5)\n",
    "        \n",
    "    # subset temporally, getting day of overpass and also day before\n",
    "    plume_date_stop = datetime.strptime(plume.filename[10:17], '%Y%j').date()\n",
    "    plume_date_start = plume_date_stop - timedelta(days=1)\n",
    "    try:\n",
    "        frp_subset = frp_data.loc[(frp_data['obs_date'] == plume_date_stop) | \n",
    "                                   (frp_data['obs_date'] == plume_date_start)]\n",
    "    except Exception, e:\n",
    "        print 'Could not extract time subset, failed with error:', str(e)\n",
    "        return None\n",
    "        \n",
    "    # subset spatially finding only those fires within the bounds of the plume\n",
    "    # note Matplotlib path might be a better option to check with bounds\n",
    "    # see here: https://goo.gl/Cevi1u.  Also, do we need to project first to\n",
    "    # determine if the points are inside the polygon?  I think not as everything\n",
    "    # is in, in effect, geographic projection.  So should be fine.\n",
    "    inbounds = []\n",
    "    plume_polygon = build_polygon(plume, lats, lons)\n",
    "    try:\n",
    "        for i, (index, frp_pixel) in enumerate(frp_subset.iterrows()):\n",
    "            if frp_pixel['point'].within(plume_polygon):  # THIS IS WRONG, NEED TO TRANSFORM\n",
    "                inbounds.append(i)\n",
    "        if inbounds:\n",
    "            frp_subset = frp_subset.iloc[inbounds]\n",
    "    except Exception, e:\n",
    "        print 'Could not extract spatial subset, failed with error:', str(e)\n",
    "        return None\n",
    "           \n",
    "    # group by time and then aggregate the FRP variables appropriately\n",
    "    frp_subset['FIRE_CONFIDENCE_mean'] = frp_subset['FIRE_CONFIDENCE']\n",
    "    frp_subset['FIRE_CONFIDENCE_std'] = frp_subset['FIRE_CONFIDENCE']\n",
    "    frp_subset = frp_subset.groupby('obs_time').agg({'FRP_0':np.sum, \n",
    "                                                     'FIRE_CONFIDENCE_mean':np.mean,\n",
    "                                                    'FIRE_CONFIDENCE_std':np.std})[['FRP_0', \n",
    "                                                                                    'FIRE_CONFIDENCE_mean',\n",
    "                                                                                    'FIRE_CONFIDENCE_std']]\n",
    "    \n",
    "    # get the plume observation overpass UTC time\n",
    "    plume_obs_time = datetime.strptime(re.search('[0-9]{7,7}\\.[0-9]{4,4}', plume.filename).group(0), '%Y%j.%H%M')\n",
    "    plume_obs_time_less_12_hours = plume_obs_time - timedelta(hours=12)\n",
    "    \n",
    "    # we can then get all FRPs in the 12 hours before the overpass\n",
    "    frp_subset = frp_subset[(frp_subset.index <= plume_obs_time) & \n",
    "                            (frp_subset.index >= plume_obs_time_less_12_hours)]\n",
    "    \n",
    "    # set up the times for integration\n",
    "    try:\n",
    "        t0 = frp_subset.index[0]\n",
    "        sample_times = (frp_subset.index - t0).total_seconds()\n",
    "    except Exception, e:\n",
    "        print 'Could not extract spatial subset, failed with error:', str(e)\n",
    "        return None\n",
    " \n",
    "    # now integrate \n",
    "    fre = integrate.trapz(frp_subset['FRP_0'], sample_times)\n",
    "    print 'fre:', fre\n",
    "    return fre"
   ]
  },
  {
   "cell_type": "markdown",
   "metadata": {},
   "source": [
    "Function to compute distance between two point:"
   ]
  },
  {
   "cell_type": "code",
   "execution_count": 26,
   "metadata": {
    "collapsed": true
   },
   "outputs": [],
   "source": [
    "from math import sin, cos, sqrt, atan2, radians\n",
    "\n",
    "def distance(lat1, lat2, lon1, lon2):\n",
    "    # approximate radius of earth in km\n",
    "    R = 6373.0\n",
    "\n",
    "    lat1 = radians(lat1)\n",
    "    lat2 = radians(lat2)\n",
    "    lon1 = radians(lon1)\n",
    "    lon2 = radians(lon2)\n",
    "    \n",
    "    dlon = lon2 - lon1\n",
    "    dlat = lat2 - lat1\n",
    "\n",
    "    a = sin(dlat / 2)**2 + cos(lat1) * cos(lat2) * sin(dlon / 2)**2\n",
    "    c = 2 * atan2(sqrt(a), sqrt(1 - a))\n",
    "\n",
    "    return R * c"
   ]
  },
  {
   "cell_type": "markdown",
   "metadata": {},
   "source": [
    "Function to compute the area of the plume:"
   ]
  },
  {
   "cell_type": "code",
   "execution_count": 27,
   "metadata": {
    "collapsed": true
   },
   "outputs": [],
   "source": [
    "def compute_plume_area(plume):\n",
    "    \n",
    "    myd_data = SD(os.path.join(filepaths.path_to_modis_l1b, plume.filename), SDC.READ)\n",
    "    lats = ndimage.zoom(myd_data.select('Latitude').get(), 5)\n",
    "    lons = ndimage.zoom(myd_data.select('Longitude').get(), 5)\n",
    "    \n",
    "    # build shapely polygon\n",
    "    plume_polygon = build_polygon(plume, lats, lons)\n",
    "    \n",
    "    # TODO is sinusoidal proj good enough?  Yes it is: https://goo.gl/KE3tuY\n",
    "    # get extra accuracy by selecting an appropriate lon_0\n",
    "    m = Basemap(projection='sinu',lon_0=140,resolution='c')\n",
    "    lons = (lons+180)-np.floor((lons+180)/360)*360-180;\n",
    "    zone = stats.mode(np.floor((lons + 180)/6) + 1, axis=None)[0][0]\n",
    "    p = pyproj.Proj(proj='utm', zone=zone, ellps='WGS84', datum='WGS84')\n",
    "    \n",
    "    # apply to shapely polygon\n",
    "    projected_plume_polygon_m = transform(m, plume_polygon)\n",
    "    projected_plume_polygon_p = transform(p, plume_polygon)\n",
    "    \n",
    "    # compute projected polygon area in m2\n",
    "    return projected_plume_polygon_m.area, projected_plume_polygon_p.area"
   ]
  },
  {
   "cell_type": "markdown",
   "metadata": {},
   "source": [
    "Functions to compute AOD for the plume:"
   ]
  },
  {
   "cell_type": "code",
   "execution_count": 28,
   "metadata": {
    "collapsed": true
   },
   "outputs": [],
   "source": [
    "def bounding_pixel_coords(plume):\n",
    "    padding = 3  # pixels\n",
    "    x, y = zip(*plume.plume_extent)\n",
    "    min_x, max_x = np.min(x)-padding, np.max(x)+padding\n",
    "    min_y, max_y = np.min(y)-padding, np.max(y)+padding\n",
    "    return {'max_x': max_x, 'min_x': min_x, 'max_y': max_y, 'min_y': min_y}"
   ]
  },
  {
   "cell_type": "code",
   "execution_count": 29,
   "metadata": {
    "collapsed": true
   },
   "outputs": [],
   "source": [
    "def define_plume_mask(plume, bounds):\n",
    "    \n",
    "    extent = [[x - bounds['min_x'], y - bounds['min_y']] for x, y in plume.plume_extent]\n",
    "\n",
    "    size_x = bounds['max_x'] - bounds['min_x']\n",
    "    size_y = bounds['max_y'] - bounds['min_y']\n",
    "    x, y = np.meshgrid(np.arange(size_x), np.arange(size_y))\n",
    "    x, y = x.flatten(), y.flatten()\n",
    "    points = np.vstack((x, y)).T\n",
    "    \n",
    "    # create mask\n",
    "    path = Path(extent)\n",
    "    mask = path.contains_points(points)\n",
    "    mask = mask.reshape((size_y, size_x))\n",
    "    \n",
    "    print 'mask ratio', np.sum(mask) / float(mask.size)\n",
    "\n",
    "    return mask"
   ]
  },
  {
   "cell_type": "code",
   "execution_count": 30,
   "metadata": {
    "collapsed": true
   },
   "outputs": [],
   "source": [
    "class resampler(object):\n",
    "    def __init__(self, lats, lons):\n",
    "        self.lats = lats\n",
    "        self.lons = lons\n",
    "        self.map_def = self.__utm_map()\n",
    "        \n",
    "    def __geographic_map(self):\n",
    "        lat_range = np.arange(np.min(self.lats), np.max(self.lats), 0.01)  # lets reproject to 0.01 degree geographic grid\n",
    "        lon_range = np.arange(np.min(self.lons), np.max(self.lons), 0.01)\n",
    "        lon_grid, lat_grid = np.meshgrid(lon_range, lat_range)\n",
    "        return pr.geometry.SwathDefinition(lons=lon_grid, lats=lat_grid)\n",
    "\n",
    "    def __utm_zone(self):\n",
    "        '''\n",
    "        Some of the plumes will cross UTM zones.  This is not problematic\n",
    "        as the plumes are quite small and so, we can just use the zone\n",
    "        in which most of the data falls: https://goo.gl/3QY2Re\n",
    "        see also: http://www.igorexchange.com/node/927 for if we need over Svalbard (highly unlikely)\n",
    "        '''\n",
    "        lons = (self.lons+180)-np.floor((self.lons+180)/360)*360-180;\n",
    "        return stats.mode(np.floor((lons + 180)/6) + 1, axis=None)[0][0]\n",
    "    \n",
    "    def __utm_boundaries(self, zone):\n",
    "        p = pyproj.Proj(proj='utm', zone=zone, ellps='WGS84', datum='WGS84')\n",
    "        x, y = p(self.lons, self.lats)\n",
    "        min_x, max_x = np.min(x), np.max(x)\n",
    "        min_y, max_y = np.min(y), np.max(y)\n",
    "\n",
    "        print 'lon dist km', distance(np.max(self.lats), np.max(self.lats), np.min(self.lons), np.max(self.lons))\n",
    "        print 'lat dist km', distance(np.min(self.lats), np.max(self.lats), np.max(self.lons), np.max(self.lons))\n",
    "        \n",
    "        return {'max_x': max_x, 'min_x': min_x, 'max_y': max_y, 'min_y': min_y}\n",
    "    \n",
    "    def __utm_grid_size(self, utm_boundaries):\n",
    "        pixel_size = 1000  # desried approximate pixel size metres. Is this really the case though?\n",
    "        x_size = int(np.ceil((utm_boundaries['max_x'] - utm_boundaries['min_x']) / pixel_size))\n",
    "        y_size = int(np.ceil((utm_boundaries['max_y'] - utm_boundaries['min_y']) / pixel_size))\n",
    "        print float(x_size), \"proj x dist km\"\n",
    "        print float(y_size), 'prok y dist km'\n",
    "                          \n",
    "        return x_size, y_size\n",
    "    \n",
    "    def __utm_proj(self, zone, utm_boundaries, x_size, y_size):\n",
    "        area_id = 'utm'\n",
    "        description = 'utm_grid'\n",
    "        proj_id = 'utm'\n",
    "        area_extent = (utm_boundaries['min_x'], utm_boundaries['min_y'], \n",
    "                       utm_boundaries['max_x'], utm_boundaries['max_y'])\n",
    "        proj_dict = {'units': 'm', 'proj':'utm', 'zone': str(zone), 'ellps': 'WGS84', 'datum': 'WGS84'}        \n",
    "        return pr.geometry.AreaDefinition(area_id, description, proj_id, proj_dict, x_size, y_size, area_extent)\n",
    "\n",
    "    def __utm_map(self):\n",
    "        zone = self.__utm_zone()\n",
    "        utm_boundaries = self.__utm_boundaries(zone)\n",
    "        x_size, y_size = self.__utm_grid_size(utm_boundaries)\n",
    "        return self.__utm_proj(zone, utm_boundaries, x_size, y_size)\n",
    "            \n",
    "    def resample_image(self, image, image_lats, image_lons):\n",
    "        image_def = pr.geometry.SwathDefinition(lons=image_lons, lats=image_lats)\n",
    "        return pr.kd_tree.resample_nearest(image_def,\n",
    "                                           image,\n",
    "                                           self.map_def,\n",
    "                                           radius_of_influence=75000,\n",
    "                                           fill_value=-999)"
   ]
  },
  {
   "cell_type": "code",
   "execution_count": 31,
   "metadata": {
    "collapsed": true
   },
   "outputs": [],
   "source": [
    "def compute_aod():\n",
    "    \n",
    "    '''\n",
    "    Resampling of the ORAC AOD data is required to remove the bowtie effect from the data.  We can then\n",
    "    sum over the AODs contained with the plume.\n",
    "    \n",
    "    Resampling of the MODIS AOD data is required so that it is in the same projection as the ORAC AOD.  \n",
    "    With it being in the same projection we can replace low quality ORAC AODs with those from MXD04 products.  \n",
    "    We also need to get the background AOD data from MXD04 products as ORAC does not do optically thin\n",
    "    retrievals well.  \n",
    "    \n",
    "    Also, we need to check that the pixel area estimates being computed by compute_plume_area are reasonable.\n",
    "    That can be done in this function, we just produce another area estimate from the resampled mask by getting \n",
    "    vertices, getting the lat lons of the vertices, creating a shapely polygon from them and then computing the area.\n",
    "    '''\n",
    "    \n",
    "    # get bounds (plume bounding rectanble, buffered by a certain extent)\n",
    "    plume_bounding_pixels = bounding_pixel_coords(plume)\n",
    "    \n",
    "    # get the plume mask\n",
    "    plume_mask = define_plume_mask(plume, plume_bounding_pixels)\n",
    "    \n",
    "    # get the resampler\n",
    "    myd_data = SD(os.path.join(filepaths.path_to_modis_l1b, plume.filename), SDC.READ)\n",
    "    lats = ndimage.zoom(myd_data.select('Latitude').get(), 5)[plume_bounding_pixels['min_y']:plume_bounding_pixels['max_y'], \n",
    "                                                              plume_bounding_pixels['min_x']:plume_bounding_pixels['max_x']]\n",
    "    lons = ndimage.zoom(myd_data.select('Longitude').get(), 5)[plume_bounding_pixels['min_y']:plume_bounding_pixels['max_y'], \n",
    "                                                              plume_bounding_pixels['min_x']:plume_bounding_pixels['max_x']]\n",
    "    im_resampler = resampler(lats, lons)  \n",
    "    \n",
    "    # resample the datasets (mask, orac_aod, MYD04)\n",
    "    resampled_plume_mask = im_resampler.resample_image(plume_mask, lats, lons)\n",
    "    \n",
    "    \n",
    "    \n",
    "    print np.sum(resampled_plume_mask)\n",
    "    plt.imshow(resampled_plume_mask)\n",
    "    plt.show()\n",
    "    \n",
    "    # create best AOD map from ORAC and MYD04 AOD\n",
    "    \n",
    "    # extract best AOD using plume mask\n",
    "    \n",
    "    # split into background and plume AODs\n",
    "    \n",
    "    # subtract background from plume\n",
    "    \n",
    "    # return plume AOD"
   ]
  },
  {
   "cell_type": "markdown",
   "metadata": {},
   "source": [
    "Code to run the various functions:"
   ]
  },
  {
   "cell_type": "code",
   "execution_count": 32,
   "metadata": {},
   "outputs": [
    {
     "name": "stdout",
     "output_type": "stream",
     "text": [
      "0.0 0.0\n",
      "mask ratio 0.569775132275\n",
      "lon dist km 104.00450812\n",
      "lat dist km 93.6030122955\n",
      "105.0 proj x dist km\n",
      "94.0 prok y dist km\n",
      "4334\n"
     ]
    },
    {
     "data": {
      "image/png": "[encoded data removed]",
      "text/plain": [
       "<matplotlib.figure.Figure at 0x11d51d750>"
      ]
     },
     "metadata": {},
     "output_type": "display_data"
    },
    {
     "name": "stdout",
     "output_type": "stream",
     "text": [
      "0.0 0.0\n",
      "mask ratio 0.49\n",
      "lon dist km 68.1274289542\n",
      "lat dist km 56.5512586042\n",
      "69.0 proj x dist km\n",
      "57.0 prok y dist km\n",
      "1490\n"
     ]
    },
    {
     "data": {
      "image/png": "[encoded data removed]",
      "text/plain": [
       "<matplotlib.figure.Figure at 0x12218a910>"
      ]
     },
     "metadata": {},
     "output_type": "display_data"
    },
    {
     "name": "stdout",
     "output_type": "stream",
     "text": [
      "0.0 0.0\n",
      "mask ratio 0.471342114632\n",
      "lon dist km 81.3001348315\n",
      "lat dist km 60.4499078778\n",
      "81.0 proj x dist km\n",
      "60.0 prok y dist km\n",
      "1853\n"
     ]
    },
    {
     "data": {
      "image/png": "[encoded data removed]",
      "text/plain": [
       "<matplotlib.figure.Figure at 0x122193090>"
      ]
     },
     "metadata": {},
     "output_type": "display_data"
    },
    {
     "name": "stdout",
     "output_type": "stream",
     "text": [
      "0.0 0.0\n",
      "mask ratio 0.346434309727\n",
      "lon dist km 107.547301674\n",
      "lat dist km 103.636839052\n",
      "108.0 proj x dist km\n",
      "104.0 prok y dist km\n",
      "2943\n"
     ]
    },
    {
     "data": {
      "image/png": "[encoded data removed]",
      "text/plain": [
       "<matplotlib.figure.Figure at 0x121b0d090>"
      ]
     },
     "metadata": {},
     "output_type": "display_data"
    },
    {
     "ename": "KeyboardInterrupt",
     "evalue": "",
     "traceback": [
      "\u001b[0;31m---------------------------------------------------------------------------\u001b[0m",
      "\u001b[0;31mKeyboardInterrupt\u001b[0m                         Traceback (most recent call last)",
      "\u001b[0;32m<ipython-input-32-b1ec3ed7bd5a>\u001b[0m in \u001b[0;36m<module>\u001b[0;34m()\u001b[0m\n\u001b[1;32m      5\u001b[0m \u001b[0;34m\u001b[0m\u001b[0m\n\u001b[1;32m      6\u001b[0m     \u001b[0;31m# get area of the plume\u001b[0m\u001b[0;34m\u001b[0m\u001b[0;34m\u001b[0m\u001b[0m\n\u001b[0;32m----> 7\u001b[0;31m     \u001b[0mplume_area_m\u001b[0m\u001b[0;34m,\u001b[0m \u001b[0mplume_area_p\u001b[0m \u001b[0;34m=\u001b[0m \u001b[0mcompute_plume_area\u001b[0m\u001b[0;34m(\u001b[0m\u001b[0mplume\u001b[0m\u001b[0;34m)\u001b[0m\u001b[0;34m\u001b[0m\u001b[0m\n\u001b[0m\u001b[1;32m      8\u001b[0m     \u001b[0;32mprint\u001b[0m \u001b[0mplume_area_m\u001b[0m \u001b[0;34m/\u001b[0m \u001b[0;36m10e6\u001b[0m\u001b[0;34m,\u001b[0m \u001b[0mplume_area_p\u001b[0m \u001b[0;34m/\u001b[0m \u001b[0;36m10e6\u001b[0m\u001b[0;34m\u001b[0m\u001b[0m\n\u001b[1;32m      9\u001b[0m \u001b[0;34m\u001b[0m\u001b[0m\n",
      "\u001b[0;32m<ipython-input-27-f550f7697e7c>\u001b[0m in \u001b[0;36mcompute_plume_area\u001b[0;34m(plume)\u001b[0m\n\u001b[1;32m     10\u001b[0m     \u001b[0;31m# TODO is sinusoidal proj good enough?  Yes it is: https://goo.gl/KE3tuY\u001b[0m\u001b[0;34m\u001b[0m\u001b[0;34m\u001b[0m\u001b[0m\n\u001b[1;32m     11\u001b[0m     \u001b[0;31m# get extra accuracy by selecting an appropriate lon_0\u001b[0m\u001b[0;34m\u001b[0m\u001b[0;34m\u001b[0m\u001b[0m\n\u001b[0;32m---> 12\u001b[0;31m     \u001b[0mm\u001b[0m \u001b[0;34m=\u001b[0m \u001b[0mBasemap\u001b[0m\u001b[0;34m(\u001b[0m\u001b[0mprojection\u001b[0m\u001b[0;34m=\u001b[0m\u001b[0;34m'sinu'\u001b[0m\u001b[0;34m,\u001b[0m\u001b[0mlon_0\u001b[0m\u001b[0;34m=\u001b[0m\u001b[0;36m140\u001b[0m\u001b[0;34m,\u001b[0m\u001b[0mresolution\u001b[0m\u001b[0;34m=\u001b[0m\u001b[0;34m'c'\u001b[0m\u001b[0;34m)\u001b[0m\u001b[0;34m\u001b[0m\u001b[0m\n\u001b[0m\u001b[1;32m     13\u001b[0m     \u001b[0mlons\u001b[0m \u001b[0;34m=\u001b[0m \u001b[0;34m(\u001b[0m\u001b[0mlons\u001b[0m\u001b[0;34m+\u001b[0m\u001b[0;36m180\u001b[0m\u001b[0;34m)\u001b[0m\u001b[0;34m-\u001b[0m\u001b[0mnp\u001b[0m\u001b[0;34m.\u001b[0m\u001b[0mfloor\u001b[0m\u001b[0;34m(\u001b[0m\u001b[0;34m(\u001b[0m\u001b[0mlons\u001b[0m\u001b[0;34m+\u001b[0m\u001b[0;36m180\u001b[0m\u001b[0;34m)\u001b[0m\u001b[0;34m/\u001b[0m\u001b[0;36m360\u001b[0m\u001b[0;34m)\u001b[0m\u001b[0;34m*\u001b[0m\u001b[0;36m360\u001b[0m\u001b[0;34m-\u001b[0m\u001b[0;36m180\u001b[0m\u001b[0;34m;\u001b[0m\u001b[0;34m\u001b[0m\u001b[0m\n\u001b[1;32m     14\u001b[0m     \u001b[0mzone\u001b[0m \u001b[0;34m=\u001b[0m \u001b[0mstats\u001b[0m\u001b[0;34m.\u001b[0m\u001b[0mmode\u001b[0m\u001b[0;34m(\u001b[0m\u001b[0mnp\u001b[0m\u001b[0;34m.\u001b[0m\u001b[0mfloor\u001b[0m\u001b[0;34m(\u001b[0m\u001b[0;34m(\u001b[0m\u001b[0mlons\u001b[0m \u001b[0;34m+\u001b[0m \u001b[0;36m180\u001b[0m\u001b[0;34m)\u001b[0m\u001b[0;34m/\u001b[0m\u001b[0;36m6\u001b[0m\u001b[0;34m)\u001b[0m \u001b[0;34m+\u001b[0m \u001b[0;36m1\u001b[0m\u001b[0;34m,\u001b[0m \u001b[0maxis\u001b[0m\u001b[0;34m=\u001b[0m\u001b[0mNone\u001b[0m\u001b[0;34m)\u001b[0m\u001b[0;34m[\u001b[0m\u001b[0;36m0\u001b[0m\u001b[0;34m]\u001b[0m\u001b[0;34m[\u001b[0m\u001b[0;36m0\u001b[0m\u001b[0;34m]\u001b[0m\u001b[0;34m\u001b[0m\u001b[0m\n",
      "\u001b[0;32m/Users/dnf/anaconda2/envs/kcl-fire-aot/lib/python2.7/site-packages/mpl_toolkits/basemap/__init__.pyc\u001b[0m in \u001b[0;36m__init__\u001b[0;34m(self, llcrnrlon, llcrnrlat, urcrnrlon, urcrnrlat, llcrnrx, llcrnry, urcrnrx, urcrnry, width, height, projection, resolution, area_thresh, rsphere, ellps, lat_ts, lat_1, lat_2, lat_0, lon_0, lon_1, lon_2, o_lon_p, o_lat_p, k_0, no_rot, suppress_ticks, satellite_height, boundinglat, fix_aspect, anchor, celestial, round, epsg, ax)\u001b[0m\n\u001b[1;32m   1118\u001b[0m             \u001b[0;31m# replace coastsegs with line segments (instead of polygons)\u001b[0m\u001b[0;34m\u001b[0m\u001b[0;34m\u001b[0m\u001b[0m\n\u001b[1;32m   1119\u001b[0m             \u001b[0mself\u001b[0m\u001b[0;34m.\u001b[0m\u001b[0mcoastsegs\u001b[0m\u001b[0;34m,\u001b[0m \u001b[0mtypes\u001b[0m \u001b[0;34m=\u001b[0m\u001b[0;31m\\\u001b[0m\u001b[0;34m\u001b[0m\u001b[0m\n\u001b[0;32m-> 1120\u001b[0;31m             \u001b[0mself\u001b[0m\u001b[0;34m.\u001b[0m\u001b[0m_readboundarydata\u001b[0m\u001b[0;34m(\u001b[0m\u001b[0;34m'gshhs'\u001b[0m\u001b[0;34m,\u001b[0m\u001b[0mas_polygons\u001b[0m\u001b[0;34m=\u001b[0m\u001b[0mFalse\u001b[0m\u001b[0;34m)\u001b[0m\u001b[0;34m\u001b[0m\u001b[0m\n\u001b[0m\u001b[1;32m   1121\u001b[0m         \u001b[0;31m# create geos Polygon structures for land areas.\u001b[0m\u001b[0;34m\u001b[0m\u001b[0;34m\u001b[0m\u001b[0m\n\u001b[1;32m   1122\u001b[0m         \u001b[0;31m# currently only used in is_land method.\u001b[0m\u001b[0;34m\u001b[0m\u001b[0;34m\u001b[0m\u001b[0m\n",
      "\u001b[0;32m/Users/dnf/anaconda2/envs/kcl-fire-aot/lib/python2.7/site-packages/mpl_toolkits/basemap/__init__.pyc\u001b[0m in \u001b[0;36m_readboundarydata\u001b[0;34m(self, name, as_polygons)\u001b[0m\n\u001b[1;32m   1393\u001b[0m                                     \u001b[0;31m# line segments sometimes disappear.\u001b[0m\u001b[0;34m\u001b[0m\u001b[0;34m\u001b[0m\u001b[0m\n\u001b[1;32m   1394\u001b[0m                                     \u001b[0mpoly\u001b[0m \u001b[0;34m=\u001b[0m \u001b[0m_geoslib\u001b[0m\u001b[0;34m.\u001b[0m\u001b[0mLineString\u001b[0m\u001b[0;34m(\u001b[0m\u001b[0mpoly\u001b[0m\u001b[0;34m.\u001b[0m\u001b[0mfix\u001b[0m\u001b[0;34m(\u001b[0m\u001b[0;34m)\u001b[0m\u001b[0;34m.\u001b[0m\u001b[0mboundary\u001b[0m\u001b[0;34m)\u001b[0m\u001b[0;34m\u001b[0m\u001b[0m\n\u001b[0;32m-> 1395\u001b[0;31m                                     \u001b[0mgeoms\u001b[0m \u001b[0;34m=\u001b[0m \u001b[0mpoly\u001b[0m\u001b[0;34m.\u001b[0m\u001b[0mintersection\u001b[0m\u001b[0;34m(\u001b[0m\u001b[0mboundarypolyll\u001b[0m\u001b[0;34m)\u001b[0m\u001b[0;34m\u001b[0m\u001b[0m\n\u001b[0m\u001b[1;32m   1396\u001b[0m                                 \u001b[0;31m# iterate over geometries in intersection.\u001b[0m\u001b[0;34m\u001b[0m\u001b[0;34m\u001b[0m\u001b[0m\n\u001b[1;32m   1397\u001b[0m                                 \u001b[0;32mfor\u001b[0m \u001b[0mpsub\u001b[0m \u001b[0;32min\u001b[0m \u001b[0mgeoms\u001b[0m\u001b[0;34m:\u001b[0m\u001b[0;34m\u001b[0m\u001b[0m\n",
      "\u001b[0;31mKeyboardInterrupt\u001b[0m: "
     ],
     "output_type": "error"
    }
   ],
   "source": [
    "for index, plume in mask_df.iterrows():\n",
    "    \n",
    "    # get collocated FRP data\n",
    "    #fre = compute_fre(plume, frp_data)\n",
    "    \n",
    "    # get area of the plume\n",
    "    plume_area_m, plume_area_p = compute_plume_area(plume)\n",
    "    print plume_area_m / 10e6, plume_area_p / 10e6\n",
    "    \n",
    "    # get plume AOD\n",
    "    total_aod = compute_aod()"
   ]
  },
  {
   "cell_type": "code",
   "execution_count": null,
   "metadata": {
    "collapsed": true
   },
   "outputs": [],
   "source": [
    ""
   ]
  },
  {
   "cell_type": "code",
   "execution_count": null,
   "metadata": {
    "collapsed": true
   },
   "outputs": [],
   "source": [
    ""
   ]
  }
 ],
 "metadata": {
  "kernelspec": {
   "display_name": "Python 2",
   "language": "python",
   "name": "python2"
  },
  "language_info": {
   "codemirror_mode": {
    "name": "ipython",
    "version": 2.0
   },
   "file_extension": ".py",
   "mimetype": "text/x-python",
   "name": "python",
   "nbconvert_exporter": "python",
   "pygments_lexer": "ipython2",
   "version": "2.7.13"
  }
 },
 "nbformat": 4,
 "nbformat_minor": 0
}