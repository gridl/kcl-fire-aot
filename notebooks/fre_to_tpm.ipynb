{
 "cells": [
  {
   "cell_type": "markdown",
   "metadata": {},
   "source": [
    "# Fire Radiative Energy to Total Particulate Matter Workbook\n",
    "\n",
    "This workbook develops the workflow for generating estiamtes of total particulate matter (TPM) from observations of fire radiative energy (FRE).  The FRE observations are derived from time integrated observations of fire radiative power (FRP), which is a measure of the amount of energy emitted by a fire per unit time and has units $Wm^{-2}$.  In order integrate over time we need observations of the FRP through time, and therefore rely on observations of fires from geostrationary sensors, in particular: SEVIRI over Africa/Europe; GOES over North and South America; Himawari over Asia and Oceania.  Which provide observations at 15, 30 and 10 minute intervals respectively.  \n",
    "\n",
    "The TPM ($gm^{-2}$) observations are required to be instantaneous only, as such they can be derived from polar orbiting sensors.   The TPM estimates are derived from optical depth (OD, unitless) estimates taken from the smoke plumes associated with a fire as the ratio OD to the mass extinction coffecient ($m^{2}g^{-1}$).  As such for TPM we need two parameters.  OD is a commonly retrived parameters from remotely sensed optical imagery, for example MODIS has a number of products which come under the MOD04/MYD04 product classification.  The mass extinction coefficient is typically derived from in-situ observations. \n",
    "\n",
    "The basic premise is to develop FRE observations for a set of fires, specifcally selecting fires with clear and definable smoke plumes, calculating the TPM for these plumes and finally deriving a linear relation between the FRE and the TPM.  Once this relation is defined it is then possible to determine the TPM directly from observations of FRE.\n",
    "\n",
    "Here we explore the development of this relation."
   ]
  },
  {
   "cell_type": "code",
   "execution_count": 19,
   "metadata": {
    "collapsed": true
   },
   "outputs": [],
   "source": [
    "# load in required packages\n",
    "import ast\n",
    "import glob\n",
    "import os\n",
    "import re\n",
    "from datetime import datetime, timedelta\n",
    "\n",
    "import pandas as pd\n",
    "import numpy as np\n",
    "from netCDF4 import Dataset\n",
    "from pyhdf.SD import SD, SDC\n",
    "from matplotlib.path import Path\n",
    "from scipy import stats\n",
    "from scipy import integrate\n",
    "from shapely.geometry import Polygon, Point\n",
    "from shapely.ops import transform\n",
    "from mpl_toolkits.basemap import Basemap\n",
    "\n",
    "import src.config.filepaths as filepaths\n",
    "import src.config.sensor as sensor\n",
    "\n",
    "import matplotlib.pyplot as plt\n",
    "import scipy.ndimage as ndimage"
   ]
  },
  {
   "cell_type": "code",
   "execution_count": 2,
   "metadata": {
    "collapsed": true
   },
   "outputs": [],
   "source": [
    "root_path = '/Users/dnf/Projects/kcl-fire-aot/data/'"
   ]
  },
  {
   "cell_type": "markdown",
   "metadata": {},
   "source": [
    "Load in the FRP for the himawair sensor (as currently working on SE Asia).  Keep only the columns we need, convert lat lon columns to a shapely Point class, and set the index to datetime.  "
   ]
  },
  {
   "cell_type": "code",
   "execution_count": 3,
   "metadata": {
    "collapsed": true
   },
   "outputs": [],
   "source": [
    "def load_frp():\n",
    "    if sensor.sensor == 'himawari':\n",
    "        try:\n",
    "            frp_df = pd.read_pickle(filepaths.path_to_himawari_frp + 'himawari_df.p')\n",
    "        except Exception, e:\n",
    "            print('could not load frp dataframe, failed with error ' + str(e) + ' building anew')\n",
    "            frp_files = os.listdir(filepaths.path_to_himawari_frp)\n",
    "            df_from_each_file = (pd.read_csv(os.path.join(filepaths.path_to_himawari_frp, f)) for f in frp_files)\n",
    "            frp_df = pd.concat(df_from_each_file, ignore_index=True)\n",
    "\n",
    "            # lets dump the columns we don't want\n",
    "            frp_df = frp_df[['FIRE_CONFIDENCE', 'FRP_0', 'LATITUDE', 'LONGITUDE', 'year','month','day','time']]\n",
    "\n",
    "            # make geocoords into shapely points\n",
    "            points = [Point(p[0], p[1]) for p in zip(frp_df['LONGITUDE'].values, frp_df['LATITUDE'].values)]\n",
    "            frp_df['point'] = points\n",
    "            frp_df.drop(['LONGITUDE', 'LATITUDE'], axis=1, inplace=True)\n",
    "\n",
    "            # reindex onto date\n",
    "            for k in ['year', 'month', 'day', 'time']:\n",
    "                frp_df[k] = frp_df[k].astype(int).astype(str)\n",
    "                if k == 'time':\n",
    "                    frp_df[k] = frp_df[k].str.zfill(4)\n",
    "                if k in ['month', 'day']:\n",
    "                    frp_df[k] = frp_df[k].str.zfill(2)\n",
    "\n",
    "            format = '%Y%m%d%H%M'\n",
    "            frp_df['obs_time'] = pd.to_datetime(frp_df['year'] +\n",
    "                                             frp_df['month'] +\n",
    "                                             frp_df['day'] + \n",
    "                                             frp_df['time'], format=format)\n",
    "            frp_df['obs_date'] = frp_df['obs_time'].dt.date\n",
    "            frp_df.drop(['year','month','day', 'time'], axis=1, inplace=True)\n",
    "            \n",
    "            frp_df.to_pickle(filepaths.path_to_himawari_frp + 'himawari_df.p')\n",
    "\n",
    "    elif sensor.sensor == 'goes':\n",
    "        pass\n",
    "\n",
    "    return frp_df\n",
    "frp_data = load_frp()"
   ]
  },
  {
   "cell_type": "code",
   "execution_count": 11,
   "metadata": {
    "collapsed": true
   },
   "outputs": [],
   "source": [
    "def build_polygon(plume, orac_data):\n",
    "\n",
    "    # TODO replace this with ORAC data, not using L1B data\n",
    "    # get geographic coordinates of plume bounds (first test with l2 data)\n",
    "    myd_data = SD(os.path.join(filepaths.path_to_modis_l1b, plume.filename), SDC.READ)\n",
    "    lats = ndimage.zoom(myd_data.select('Latitude').get(), 5)\n",
    "    lons = ndimage.zoom(myd_data.select('Longitude').get(), 5)\n",
    "    \n",
    "    # when digitising points are appended (x,y).  However, arrays are accessed\n",
    "    # in numpy as row, col which is y, x.  So we need to switch\n",
    "    bounding_lats = [lats[point[1], point[0]] for point in plume.plume_extent]\n",
    "    bounding_lons = [lons[point[1], point[0]] for point in plume.plume_extent]\n",
    "\n",
    "    return Polygon(zip(bounding_lons, bounding_lats))"
   ]
  },
  {
   "cell_type": "markdown",
   "metadata": {},
   "source": [
    "Load in the smoke plume mask:"
   ]
  },
  {
   "cell_type": "code",
   "execution_count": 8,
   "metadata": {
    "collapsed": true
   },
   "outputs": [],
   "source": [
    "mask_path = root_path + 'Asia/processed/plume_masks/myd021km_plumes_df.pickle'\n",
    "try:\n",
    "    mask_df = pd.read_pickle(mask_path)\n",
    "except:\n",
    "    mask_df = pd.read_csv(mask_path, quotechar='\"', sep=',', converters={'plume_extent': ast.literal_eval})"
   ]
  },
  {
   "cell_type": "code",
   "execution_count": 6,
   "metadata": {
    "collapsed": true
   },
   "outputs": [],
   "source": [
    "def compute_fre(plume, frp_data):\n",
    "        \n",
    "    # subset temporally, getting day of overpass and also day before\n",
    "    plume_date_stop = datetime.strptime(plume.filename[10:17], '%Y%j').date()\n",
    "    plume_date_start = plume_date_stop - timedelta(days=1)\n",
    "    try:\n",
    "        frp_subset = frp_data.loc[(frp_data['obs_date'] == plume_date_stop) | \n",
    "                                   (frp_data['obs_date'] == plume_date_start)]\n",
    "    except Exception, e:\n",
    "        print 'Could not extract time subset, failed with error:', str(e)\n",
    "        return None\n",
    "        \n",
    "    # subset spatially finding only those fires within the bounds of the plume\n",
    "    # note Matplotlib path might be a better option to check with bounds\n",
    "    # see here: https://goo.gl/Cevi1u\n",
    "    inbounds = []\n",
    "    plume_polygon = build_polygon(plume, [])\n",
    "    try:\n",
    "        for i, (index, frp_pixel) in enumerate(frp_subset.iterrows()):\n",
    "            if frp_pixel['point'].within(plume_polygon):\n",
    "                inbounds.append(i)\n",
    "        if inbounds:\n",
    "            frp_subset = frp_subset.iloc[inbounds]\n",
    "    except Exception, e:\n",
    "        print 'Could not extract spatial subset, failed with error:', str(e)\n",
    "        return None\n",
    "           \n",
    "    # group by time and then aggregate the FRP variables appropriately\n",
    "    frp_subset['FIRE_CONFIDENCE_mean'] = frp_subset['FIRE_CONFIDENCE']\n",
    "    frp_subset['FIRE_CONFIDENCE_std'] = frp_subset['FIRE_CONFIDENCE']\n",
    "    frp_subset = frp_subset.groupby('obs_time').agg({'FRP_0':np.sum, \n",
    "                                                     'FIRE_CONFIDENCE_mean':np.mean,\n",
    "                                                    'FIRE_CONFIDENCE_std':np.std})[['FRP_0', \n",
    "                                                                                    'FIRE_CONFIDENCE_mean',\n",
    "                                                                                    'FIRE_CONFIDENCE_std']]\n",
    "    \n",
    "    # get the plume observation overpass UTC time\n",
    "    plume_obs_time = datetime.strptime(re.search('[0-9]{7,7}\\.[0-9]{4,4}', plume.filename).group(0), '%Y%j.%H%M')\n",
    "    plume_obs_time_less_12_hours = plume_obs_time - timedelta(hours=12)\n",
    "    \n",
    "    # we can then get all FRPs in the 12 hours before the overpass\n",
    "    frp_subset = frp_subset[(frp_subset.index <= plume_obs_time) & \n",
    "                            (frp_subset.index >= plume_obs_time_less_12_hours)]\n",
    "    \n",
    "    # set up the times for integration\n",
    "    try:\n",
    "        t0 = frp_subset.index[0]\n",
    "        sample_times = (frp_subset.index - t0).total_seconds()\n",
    "    except Exception, e:\n",
    "        print 'Could not extract spatial subset, failed with error:', str(e)\n",
    "        return None\n",
    " \n",
    "    # now integrate \n",
    "    fre = integrate.trapz(frp_subset['FRP_0'], sample_times)\n",
    "    print 'fre:', fre\n",
    "    return fre"
   ]
  },
  {
   "cell_type": "code",
   "execution_count": 24,
   "metadata": {
    "collapsed": true
   },
   "outputs": [],
   "source": [
    "def compute_plume_area(plume):\n",
    "    \n",
    "    # first build shapely polygon\n",
    "    plume_polygon = build_polygon(plume, [])\n",
    "    \n",
    "    # TODO is sinusoidal proj good enough?  Need to switch to UTM\n",
    "    # see comments in here: https://goo.gl/SD8DMQ\n",
    "    m = Basemap(projection='sinu',lon_0=0,resolution='c')\n",
    "    \n",
    "    # apply to shapely polygon\n",
    "    projected_plume_polygon = transform(m, plume_polygon)\n",
    "    \n",
    "    # compute projected polygon area in m2\n",
    "    return projected_plume_polygon.area "
   ]
  },
  {
   "cell_type": "code",
   "execution_count": 25,
   "metadata": {},
   "outputs": [
    {
     "name": "stdout",
     "output_type": "stream",
     "text": [
      "429.236432962\n",
      "146.218483304\n",
      "182.055742545\n",
      "291.462876117\n",
      "57.9166283466\n",
      "366.010844294\n",
      "849.740686129\n",
      "1628.12844786\n",
      "48.1796810977\n",
      "1451.60646121\n",
      "216.432362451\n",
      "82.0213554104\n",
      "94.1781304772\n",
      "34.3869077103\n",
      "56.0873899275\n",
      "205.801174762\n",
      "91.1305491972\n",
      "135.544714291\n",
      "30.1802928873\n",
      "57.7678622871\n",
      "53.4177646326\n",
      "447.004319979\n",
      "38.1844545896\n",
      "62.4305853531\n",
      "32.5283997883\n",
      "74.8114425084\n",
      "209.938449174\n",
      "70.0502085591\n",
      "23.0581558319\n",
      "22.9210575367\n",
      "167.718341151\n",
      "65.4773671701\n",
      "34.1292779758\n",
      "55.8681003397\n",
      "1175.26625833\n",
      "88.7010548588\n",
      "34.2281073981\n"
     ]
    },
    {
     "ename": "KeyboardInterrupt",
     "evalue": "",
     "output_type": "error",
     "traceback": [
      "\u001b[0;31m---------------------------------------------------------------------------\u001b[0m",
      "\u001b[0;31mKeyboardInterrupt\u001b[0m                         Traceback (most recent call last)",
      "\u001b[0;32m<ipython-input-25-13ff42006267>\u001b[0m in \u001b[0;36m<module>\u001b[0;34m()\u001b[0m\n\u001b[1;32m      5\u001b[0m \u001b[0;34m\u001b[0m\u001b[0m\n\u001b[1;32m      6\u001b[0m     \u001b[0;31m# get area of the plume\u001b[0m\u001b[0;34m\u001b[0m\u001b[0;34m\u001b[0m\u001b[0m\n\u001b[0;32m----> 7\u001b[0;31m     \u001b[0mplume_area\u001b[0m \u001b[0;34m=\u001b[0m \u001b[0mcompute_plume_area\u001b[0m\u001b[0;34m(\u001b[0m\u001b[0mplume\u001b[0m\u001b[0;34m)\u001b[0m\u001b[0;34m\u001b[0m\u001b[0m\n\u001b[0m\u001b[1;32m      8\u001b[0m \u001b[0;34m\u001b[0m\u001b[0m\n\u001b[1;32m      9\u001b[0m     \u001b[0;31m# get plume AOD\u001b[0m\u001b[0;34m\u001b[0m\u001b[0;34m\u001b[0m\u001b[0m\n",
      "\u001b[0;32m<ipython-input-24-7c87691868ed>\u001b[0m in \u001b[0;36mcompute_plume_area\u001b[0;34m(plume)\u001b[0m\n\u001b[1;32m      5\u001b[0m \u001b[0;34m\u001b[0m\u001b[0m\n\u001b[1;32m      6\u001b[0m     \u001b[0;31m# generate map projection\u001b[0m\u001b[0;34m\u001b[0m\u001b[0;34m\u001b[0m\u001b[0m\n\u001b[0;32m----> 7\u001b[0;31m     \u001b[0mm\u001b[0m \u001b[0;34m=\u001b[0m \u001b[0mBasemap\u001b[0m\u001b[0;34m(\u001b[0m\u001b[0mprojection\u001b[0m\u001b[0;34m=\u001b[0m\u001b[0;34m'sinu'\u001b[0m\u001b[0;34m,\u001b[0m\u001b[0mlon_0\u001b[0m\u001b[0;34m=\u001b[0m\u001b[0;36m0\u001b[0m\u001b[0;34m,\u001b[0m\u001b[0mresolution\u001b[0m\u001b[0;34m=\u001b[0m\u001b[0;34m'c'\u001b[0m\u001b[0;34m)\u001b[0m\u001b[0;34m\u001b[0m\u001b[0m\n\u001b[0m\u001b[1;32m      8\u001b[0m \u001b[0;34m\u001b[0m\u001b[0m\n\u001b[1;32m      9\u001b[0m     \u001b[0;31m# apply to shapely polygon\u001b[0m\u001b[0;34m\u001b[0m\u001b[0;34m\u001b[0m\u001b[0m\n",
      "\u001b[0;32m/Users/dnf/anaconda2/envs/kcl-fire-aot/lib/python2.7/site-packages/mpl_toolkits/basemap/__init__.pyc\u001b[0m in \u001b[0;36m__init__\u001b[0;34m(self, llcrnrlon, llcrnrlat, urcrnrlon, urcrnrlat, llcrnrx, llcrnry, urcrnrx, urcrnry, width, height, projection, resolution, area_thresh, rsphere, ellps, lat_ts, lat_1, lat_2, lat_0, lon_0, lon_1, lon_2, o_lon_p, o_lat_p, k_0, no_rot, suppress_ticks, satellite_height, boundinglat, fix_aspect, anchor, celestial, round, epsg, ax)\u001b[0m\n\u001b[1;32m   1110\u001b[0m         \u001b[0;32mif\u001b[0m \u001b[0mself\u001b[0m\u001b[0;34m.\u001b[0m\u001b[0mresolution\u001b[0m \u001b[0;32mis\u001b[0m \u001b[0;32mnot\u001b[0m \u001b[0mNone\u001b[0m\u001b[0;34m:\u001b[0m\u001b[0;34m\u001b[0m\u001b[0m\n\u001b[1;32m   1111\u001b[0m             \u001b[0mself\u001b[0m\u001b[0;34m.\u001b[0m\u001b[0mcoastsegs\u001b[0m\u001b[0;34m,\u001b[0m \u001b[0mself\u001b[0m\u001b[0;34m.\u001b[0m\u001b[0mcoastpolygontypes\u001b[0m \u001b[0;34m=\u001b[0m\u001b[0;31m\\\u001b[0m\u001b[0;34m\u001b[0m\u001b[0m\n\u001b[0;32m-> 1112\u001b[0;31m             \u001b[0mself\u001b[0m\u001b[0;34m.\u001b[0m\u001b[0m_readboundarydata\u001b[0m\u001b[0;34m(\u001b[0m\u001b[0;34m'gshhs'\u001b[0m\u001b[0;34m,\u001b[0m\u001b[0mas_polygons\u001b[0m\u001b[0;34m=\u001b[0m\u001b[0mTrue\u001b[0m\u001b[0;34m)\u001b[0m\u001b[0;34m\u001b[0m\u001b[0m\n\u001b[0m\u001b[1;32m   1113\u001b[0m             \u001b[0;31m# reformat for use in matplotlib.patches.Polygon.\u001b[0m\u001b[0;34m\u001b[0m\u001b[0;34m\u001b[0m\u001b[0m\n\u001b[1;32m   1114\u001b[0m             \u001b[0mself\u001b[0m\u001b[0;34m.\u001b[0m\u001b[0mcoastpolygons\u001b[0m \u001b[0;34m=\u001b[0m \u001b[0;34m[\u001b[0m\u001b[0;34m]\u001b[0m\u001b[0;34m\u001b[0m\u001b[0m\n",
      "\u001b[0;32m/Users/dnf/anaconda2/envs/kcl-fire-aot/lib/python2.7/site-packages/mpl_toolkits/basemap/__init__.pyc\u001b[0m in \u001b[0;36m_readboundarydata\u001b[0;34m(self, name, as_polygons)\u001b[0m\n\u001b[1;32m   1382\u001b[0m                         \u001b[0;32mfor\u001b[0m \u001b[0mpoly\u001b[0m \u001b[0;32min\u001b[0m \u001b[0mpolys\u001b[0m\u001b[0;34m:\u001b[0m\u001b[0;34m\u001b[0m\u001b[0m\n\u001b[1;32m   1383\u001b[0m                             \u001b[0;31m# try to fix \"non-noded intersection\" errors.\u001b[0m\u001b[0;34m\u001b[0m\u001b[0;34m\u001b[0m\u001b[0m\n\u001b[0;32m-> 1384\u001b[0;31m                             \u001b[0;32mif\u001b[0m \u001b[0;32mnot\u001b[0m \u001b[0mpoly\u001b[0m\u001b[0;34m.\u001b[0m\u001b[0mis_valid\u001b[0m\u001b[0;34m(\u001b[0m\u001b[0;34m)\u001b[0m\u001b[0;34m:\u001b[0m \u001b[0mpoly\u001b[0m\u001b[0;34m=\u001b[0m\u001b[0mpoly\u001b[0m\u001b[0;34m.\u001b[0m\u001b[0mfix\u001b[0m\u001b[0;34m(\u001b[0m\u001b[0;34m)\u001b[0m\u001b[0;34m\u001b[0m\u001b[0m\n\u001b[0m\u001b[1;32m   1385\u001b[0m                             \u001b[0;31m# if polygon instersects map projection\u001b[0m\u001b[0;34m\u001b[0m\u001b[0;34m\u001b[0m\u001b[0m\n\u001b[1;32m   1386\u001b[0m                             \u001b[0;31m# region, process it.\u001b[0m\u001b[0;34m\u001b[0m\u001b[0;34m\u001b[0m\u001b[0m\n",
      "\u001b[0;31mKeyboardInterrupt\u001b[0m: "
     ]
    }
   ],
   "source": [
    "for index, plume in mask_df.iterrows():\n",
    "    \n",
    "    # get collocated FRP data\n",
    "    #fre = compute_fre(plume, frp_data)\n",
    "    \n",
    "    # get area of the plume\n",
    "    #plume_area = compute_plume_area(plume)\n",
    "    \n",
    "    # get plume AOD\n",
    "    total_aod = compute_aod\n"
   ]
  },
  {
   "cell_type": "code",
   "execution_count": null,
   "metadata": {
    "collapsed": true
   },
   "outputs": [],
   "source": []
  }
 ],
 "metadata": {
  "kernelspec": {
   "display_name": "kcl-fire-aot",
   "language": "python",
   "name": "kcl-fire-aot"
  },
  "language_info": {
   "codemirror_mode": {
    "name": "ipython",
    "version": 2
   },
   "file_extension": ".py",
   "mimetype": "text/x-python",
   "name": "python",
   "nbconvert_exporter": "python",
   "pygments_lexer": "ipython2",
   "version": "2.7.13"
  }
 },
 "nbformat": 4,
 "nbformat_minor": 2
}
