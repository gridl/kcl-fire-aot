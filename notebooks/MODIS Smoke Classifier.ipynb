{
 "cells": [
  {
   "cell_type": "markdown",
   "metadata": {},
   "source": [
    "## Objectives\n",
    "\n",
    "In this notebook various approaches for classifying smoke in multispectral MODIS images are investigated.  This evluation of the classification is being performed on a manually labelled dataset taken from MODIS observations over North and South America during the fire seasons of 2014.  In each image pixel samples were taken from smoke and smoke free areas, with both being labelled separately.  Using this labelled data we hope to generate a suitable classifier.\n",
    "\n",
    "The classifier will be applied in the generation of smoke plume masks, which in turn will be used to find conincidences between MODIS pixels and either AERONET of CALIOP observations of smoke.  Using these collocated data we can then perform an evaluation of the ORAC AOD retrieval LUTS and determine which is most appropriate and provide an indication of how well it performs.  Furthermore, we can potentially use the collocated AERONET observations to provide an improved LUT for smoke, which would be ideal. \n",
    "\n",
    "The initial classifier that will be tested in the random forest approach (an ensemble of decision trees).  This approach has a number of benefits, one of the main ones being that it does relatively well out of the box and there are not many hyperparemters to tune in order to get a good fit.  It is also rather fast to train, and apply (check this!)."
   ]
  },
  {
   "cell_type": "code",
   "execution_count": 1,
   "metadata": {
    "collapsed": true
   },
   "outputs": [],
   "source": [
    "# add the working code to path\n",
    "import sys\n",
    "sys.path.append(\"/Users/dnf/Projects/kcl-fire-aot/src\")"
   ]
  },
  {
   "cell_type": "code",
   "execution_count": 2,
   "metadata": {
    "collapsed": true
   },
   "outputs": [],
   "source": [
    "import os\n",
    "import pickle\n",
    "\n",
    "import pandas as pd\n",
    "import numpy as np\n",
    "from pyhdf.SD import SD, SDC\n",
    "import matplotlib.pyplot as plt\n",
    "\n",
    "from sklearn.ensemble import RandomForestClassifier\n",
    "from sklearn.model_selection import train_test_split\n",
    "from sklearn import metrics\n",
    "from sklearn.preprocessing import StandardScaler\n",
    "from sklearn.decomposition import PCA\n",
    "\n",
    "from scipy import ndimage\n",
    "\n",
    "import config.filepaths as filepaths\n",
    "import GLCM.Textures as textures\n",
    "import config.sensor as sensor"
   ]
  },
  {
   "cell_type": "code",
   "execution_count": 3,
   "metadata": {
    "collapsed": true
   },
   "outputs": [],
   "source": [
    "%matplotlib inline"
   ]
  },
  {
   "cell_type": "markdown",
   "metadata": {},
   "source": [
    "## Data Setup\n",
    "\n",
    "First lets read in the dataframe containing the labelled channels, and then pare these channels down to an initial set that likely contain the most useful information.  Attempted PCA and led to a significant degradation in the qaulity of the results.  Also, the trained random forest is fast to apply to all channels, faster even than the PCA compute time.  So no point in playing around to try and make it work."
   ]
  },
  {
   "cell_type": "code",
   "execution_count": 4,
   "metadata": {
    "collapsed": true
   },
   "outputs": [],
   "source": [
    "# set region based on sensor MAKE SURE TO UPDATE SENSOR IN THE CODE (i.e. sensor.sensor file variable)\n",
    "if sensor.sensor == 'goes':\n",
    "    region = 'Americas'\n",
    "elif sensor.sensor == 'himawari':\n",
    "    region = 'Asia'"
   ]
  },
  {
   "cell_type": "code",
   "execution_count": 5,
   "metadata": {
    "collapsed": true
   },
   "outputs": [],
   "source": [
    "# the filepath on this may need hardcoding as what if we change sensor in this notebook, but have not changed\n",
    "# sensor in the code!\n",
    "df = pd.read_pickle('/Users/dnf/Projects/kcl-fire-aot/data/Americas/interim/classification_features.pickle')"
   ]
  },
  {
   "cell_type": "code",
   "execution_count": 6,
   "metadata": {},
   "outputs": [
    {
     "data": {
      "text/html": [
       "<div>\n",
       "<style>\n",
       "    .dataframe thead tr:only-child th {\n",
       "        text-align: right;\n",
       "    }\n",
       "\n",
       "    .dataframe thead th {\n",
       "        text-align: left;\n",
       "    }\n",
       "\n",
       "    .dataframe tbody tr th {\n",
       "        vertical-align: top;\n",
       "    }\n",
       "</style>\n",
       "<table border=\"1\" class=\"dataframe\">\n",
       "  <thead>\n",
       "    <tr style=\"text-align: right;\">\n",
       "      <th></th>\n",
       "      <th>1.0</th>\n",
       "      <th>2.0</th>\n",
       "      <th>3.0</th>\n",
       "      <th>4.0</th>\n",
       "      <th>5.0</th>\n",
       "      <th>6.0</th>\n",
       "      <th>7.0</th>\n",
       "      <th>20.0</th>\n",
       "      <th>21.0</th>\n",
       "      <th>22.0</th>\n",
       "      <th>...</th>\n",
       "      <th>33.0</th>\n",
       "      <th>34.0</th>\n",
       "      <th>35.0</th>\n",
       "      <th>36.0</th>\n",
       "      <th>fname</th>\n",
       "      <th>glcm_correlation</th>\n",
       "      <th>glcm_dissimilarity</th>\n",
       "      <th>glcm_mean</th>\n",
       "      <th>glcm_variance</th>\n",
       "      <th>smoke_flag</th>\n",
       "    </tr>\n",
       "  </thead>\n",
       "  <tbody>\n",
       "    <tr>\n",
       "      <th>0</th>\n",
       "      <td>2853</td>\n",
       "      <td>5496</td>\n",
       "      <td>65528</td>\n",
       "      <td>5119</td>\n",
       "      <td>4185</td>\n",
       "      <td>65528</td>\n",
       "      <td>2948</td>\n",
       "      <td>13072</td>\n",
       "      <td>2741</td>\n",
       "      <td>14994</td>\n",
       "      <td>...</td>\n",
       "      <td>22635</td>\n",
       "      <td>22894</td>\n",
       "      <td>21811</td>\n",
       "      <td>22667</td>\n",
       "      <td>MYD021KM.A2014091.1820.006.2014092182350.hdf</td>\n",
       "      <td>0.570121</td>\n",
       "      <td>1.54</td>\n",
       "      <td>4.490</td>\n",
       "      <td>4.839900</td>\n",
       "      <td>1</td>\n",
       "    </tr>\n",
       "    <tr>\n",
       "      <th>1</th>\n",
       "      <td>3117</td>\n",
       "      <td>6052</td>\n",
       "      <td>65528</td>\n",
       "      <td>5498</td>\n",
       "      <td>4458</td>\n",
       "      <td>65528</td>\n",
       "      <td>3134</td>\n",
       "      <td>12846</td>\n",
       "      <td>2741</td>\n",
       "      <td>14688</td>\n",
       "      <td>...</td>\n",
       "      <td>22597</td>\n",
       "      <td>22878</td>\n",
       "      <td>21771</td>\n",
       "      <td>22833</td>\n",
       "      <td>MYD021KM.A2014091.1820.006.2014092182350.hdf</td>\n",
       "      <td>0.300970</td>\n",
       "      <td>1.46</td>\n",
       "      <td>5.440</td>\n",
       "      <td>3.276400</td>\n",
       "      <td>1</td>\n",
       "    </tr>\n",
       "    <tr>\n",
       "      <th>2</th>\n",
       "      <td>3060</td>\n",
       "      <td>6195</td>\n",
       "      <td>65528</td>\n",
       "      <td>5498</td>\n",
       "      <td>4650</td>\n",
       "      <td>65528</td>\n",
       "      <td>2965</td>\n",
       "      <td>12460</td>\n",
       "      <td>2741</td>\n",
       "      <td>14466</td>\n",
       "      <td>...</td>\n",
       "      <td>22616</td>\n",
       "      <td>22806</td>\n",
       "      <td>21834</td>\n",
       "      <td>22767</td>\n",
       "      <td>MYD021KM.A2014091.1820.006.2014092182350.hdf</td>\n",
       "      <td>-0.050373</td>\n",
       "      <td>1.38</td>\n",
       "      <td>6.030</td>\n",
       "      <td>2.399100</td>\n",
       "      <td>1</td>\n",
       "    </tr>\n",
       "    <tr>\n",
       "      <th>3</th>\n",
       "      <td>2780</td>\n",
       "      <td>5861</td>\n",
       "      <td>65528</td>\n",
       "      <td>5135</td>\n",
       "      <td>4071</td>\n",
       "      <td>65528</td>\n",
       "      <td>2432</td>\n",
       "      <td>11773</td>\n",
       "      <td>2719</td>\n",
       "      <td>13534</td>\n",
       "      <td>...</td>\n",
       "      <td>22512</td>\n",
       "      <td>22906</td>\n",
       "      <td>21653</td>\n",
       "      <td>22701</td>\n",
       "      <td>MYD021KM.A2014091.1820.006.2014092182350.hdf</td>\n",
       "      <td>-0.177197</td>\n",
       "      <td>1.23</td>\n",
       "      <td>6.265</td>\n",
       "      <td>2.144775</td>\n",
       "      <td>1</td>\n",
       "    </tr>\n",
       "    <tr>\n",
       "      <th>4</th>\n",
       "      <td>2549</td>\n",
       "      <td>5593</td>\n",
       "      <td>65528</td>\n",
       "      <td>4780</td>\n",
       "      <td>3937</td>\n",
       "      <td>65528</td>\n",
       "      <td>2838</td>\n",
       "      <td>13027</td>\n",
       "      <td>2757</td>\n",
       "      <td>14940</td>\n",
       "      <td>...</td>\n",
       "      <td>22672</td>\n",
       "      <td>22919</td>\n",
       "      <td>21767</td>\n",
       "      <td>22741</td>\n",
       "      <td>MYD021KM.A2014091.1820.006.2014092182350.hdf</td>\n",
       "      <td>-0.181623</td>\n",
       "      <td>1.12</td>\n",
       "      <td>6.270</td>\n",
       "      <td>1.997100</td>\n",
       "      <td>1</td>\n",
       "    </tr>\n",
       "  </tbody>\n",
       "</table>\n",
       "<p>5 rows × 29 columns</p>\n",
       "</div>"
      ],
      "text/plain": [
       "    1.0   2.0    3.0   4.0   5.0    6.0   7.0   20.0  21.0   22.0     ...      \\\n",
       "0  2853  5496  65528  5119  4185  65528  2948  13072  2741  14994     ...       \n",
       "1  3117  6052  65528  5498  4458  65528  3134  12846  2741  14688     ...       \n",
       "2  3060  6195  65528  5498  4650  65528  2965  12460  2741  14466     ...       \n",
       "3  2780  5861  65528  5135  4071  65528  2432  11773  2719  13534     ...       \n",
       "4  2549  5593  65528  4780  3937  65528  2838  13027  2757  14940     ...       \n",
       "\n",
       "    33.0   34.0   35.0   36.0                                         fname  \\\n",
       "0  22635  22894  21811  22667  MYD021KM.A2014091.1820.006.2014092182350.hdf   \n",
       "1  22597  22878  21771  22833  MYD021KM.A2014091.1820.006.2014092182350.hdf   \n",
       "2  22616  22806  21834  22767  MYD021KM.A2014091.1820.006.2014092182350.hdf   \n",
       "3  22512  22906  21653  22701  MYD021KM.A2014091.1820.006.2014092182350.hdf   \n",
       "4  22672  22919  21767  22741  MYD021KM.A2014091.1820.006.2014092182350.hdf   \n",
       "\n",
       "   glcm_correlation  glcm_dissimilarity  glcm_mean  glcm_variance  smoke_flag  \n",
       "0          0.570121                1.54      4.490       4.839900           1  \n",
       "1          0.300970                1.46      5.440       3.276400           1  \n",
       "2         -0.050373                1.38      6.030       2.399100           1  \n",
       "3         -0.177197                1.23      6.265       2.144775           1  \n",
       "4         -0.181623                1.12      6.270       1.997100           1  \n",
       "\n",
       "[5 rows x 29 columns]"
      ]
     },
     "execution_count": 6,
     "metadata": {},
     "output_type": "execute_result"
    }
   ],
   "source": [
    "df.head()"
   ]
  },
  {
   "cell_type": "code",
   "execution_count": 7,
   "metadata": {
    "collapsed": true
   },
   "outputs": [],
   "source": [
    "channels = [1,2,3,4,5,7,20,22,23,31,32,33,34,35, \n",
    "            'glcm_correlation', 'glcm_dissimilarity', 'glcm_variance']\n",
    "\n",
    "X = df[channels]\n",
    "y = df[\"smoke_flag\"]"
   ]
  },
  {
   "cell_type": "code",
   "execution_count": 8,
   "metadata": {
    "collapsed": true
   },
   "outputs": [],
   "source": [
    "X_train, X_test, y_train, y_test = train_test_split(X, y, test_size=0.2, random_state=0)"
   ]
  },
  {
   "cell_type": "markdown",
   "metadata": {},
   "source": [
    "## Model setup"
   ]
  },
  {
   "cell_type": "code",
   "execution_count": 21,
   "metadata": {
    "collapsed": true
   },
   "outputs": [],
   "source": [
    "# Initialize our model with 32 trees\n",
    "rf = RandomForestClassifier(n_estimators=500, oob_score=True, n_jobs=3)"
   ]
  },
  {
   "cell_type": "code",
   "execution_count": null,
   "metadata": {
    "collapsed": true
   },
   "outputs": [],
   "source": [
    "# Fit our model to training data\n",
    "rf = rf.fit(X_train, y_train)\n",
    "pickle.dump(rf, open('/Users/dnf/Projects/kcl-fire-aot/data/{0}/models/rf_model_500_trees.pickle'.format(region), 'wb'))"
   ]
  },
  {
   "cell_type": "code",
   "execution_count": 9,
   "metadata": {
    "collapsed": true
   },
   "outputs": [],
   "source": [
    "rf = pickle.load(open('/Users/dnf/Projects/kcl-fire-aot/data/Americas/models/rf_model_32_trees.pickle', 'rb'))"
   ]
  },
  {
   "cell_type": "markdown",
   "metadata": {},
   "source": [
    "## Model evaluation"
   ]
  },
  {
   "cell_type": "code",
   "execution_count": 10,
   "metadata": {},
   "outputs": [
    {
     "name": "stdout",
     "output_type": "stream",
     "text": [
      "Our OOB prediction of accuracy is: 99.8586954759%\n"
     ]
    }
   ],
   "source": [
    "print('Our OOB prediction of accuracy is: {oob}%'.format(oob=rf.oob_score_ * 100))"
   ]
  },
  {
   "cell_type": "code",
   "execution_count": 11,
   "metadata": {},
   "outputs": [
    {
     "name": "stdout",
     "output_type": "stream",
     "text": [
      "Band 1 importance: 0.0844045601954\n",
      "Band 2 importance: 0.0641549384348\n",
      "Band 3 importance: 0.013064230537\n",
      "Band 4 importance: 0.159592171855\n",
      "Band 5 importance: 0.0647961046302\n",
      "Band 7 importance: 0.131519847722\n",
      "Band 20 importance: 0.0712157576598\n",
      "Band 22 importance: 0.0292266276749\n",
      "Band 23 importance: 0.0313908393553\n",
      "Band 31 importance: 0.0572970930794\n",
      "Band 32 importance: 0.0613303994005\n",
      "Band 33 importance: 0.0343376483649\n",
      "Band 34 importance: 0.0286107504031\n",
      "Band 35 importance: 0.0303863662308\n",
      "Band glcm_correlation importance: 0.034550483968\n",
      "Band glcm_dissimilarity importance: 0.038110998313\n",
      "Band glcm_variance importance: 0.0660111821754\n"
     ]
    }
   ],
   "source": [
    "for c, imp in zip(channels, rf.feature_importances_):\n",
    "    print('Band {c} importance: {imp}'.format(c=c, imp=imp))"
   ]
  },
  {
   "cell_type": "code",
   "execution_count": 12,
   "metadata": {},
   "outputs": [
    {
     "name": "stdout",
     "output_type": "stream",
     "text": [
      "predict        0      1      All\n",
      "truth                           \n",
      "0        1071721     62  1071783\n",
      "1            462  40119    40581\n",
      "All      1072183  40181  1112364\n"
     ]
    }
   ],
   "source": [
    "# Setup a dataframe -- just like R n_est = 32, max_d = None\n",
    "df = pd.DataFrame()\n",
    "df['truth'] = y_test\n",
    "df['predict'] = rf.predict(X_test)\n",
    "\n",
    "# Cross-tabulate predictions\n",
    "print(pd.crosstab(df['truth'], df['predict'], margins=True))"
   ]
  },
  {
   "cell_type": "code",
   "execution_count": 13,
   "metadata": {},
   "outputs": [
    {
     "name": "stdout",
     "output_type": "stream",
     "text": [
      "0.993511800104 0.993348253917\n"
     ]
    }
   ],
   "source": [
    "# testing score\n",
    "score = metrics.f1_score(y_test, rf.predict(X_test))\n",
    "# training score\n",
    "score_train = metrics.f1_score(y_train, rf.predict(X_train))\n",
    "print score, score_train"
   ]
  },
  {
   "cell_type": "code",
   "execution_count": 14,
   "metadata": {},
   "outputs": [
    {
     "name": "stdout",
     "output_type": "stream",
     "text": [
      "0.999528931177 0.999521738857\n"
     ]
    }
   ],
   "source": [
    "pscore = metrics.accuracy_score(y_test, rf.predict(X_test))\n",
    "pscore_train = metrics.accuracy_score(y_train, rf.predict(X_train))\n",
    "\n",
    "print pscore, pscore_train"
   ]
  },
  {
   "cell_type": "markdown",
   "metadata": {},
   "source": [
    "Some key outcomes: The fewer the trees the quicker the application.  There is not much difference between having 32 and 200+ trees, perhaps at most a few percent, which is not important for our application, rather speed is.  Hence, 32 is preferred over larger numbers of tree so that we can process the images in a more timely fashion.  The key parameter is the max depth of the trees, limiting the max depth really affects the classification accuracy on the test data.  So, best to let the random forest figure out the number of trees to use and not to mess around with it too much"
   ]
  },
  {
   "cell_type": "markdown",
   "metadata": {},
   "source": [
    "## Image test\n",
    "Lets test in on some MODIS scenes and see what outcomes we get."
   ]
  },
  {
   "cell_type": "code",
   "execution_count": 15,
   "metadata": {
    "collapsed": true
   },
   "outputs": [],
   "source": [
    "def generate_textures(mod_chan_data, i):\n",
    "    \n",
    "    image = mod_chan_data[i, :, :]\n",
    "    texture_generator = textures.CooccurenceMatrixTextures(image)\n",
    "\n",
    "    measures = []\n",
    "    names = ['glcm_dissimilarity', 'glcm_correlation', 'glcm_variance', 'glcm_mean']\n",
    "\n",
    "    diss = texture_generator.getDissimlarity()\n",
    "    print 'dis shape', diss.shape\n",
    "    corr, var, mean = texture_generator.getCorrVarMean()\n",
    "\n",
    "    for measure in [diss, corr, var, mean]:\n",
    "        measures.append(measure.flatten())\n",
    "\n",
    "    return measures, names"
   ]
  },
  {
   "cell_type": "code",
   "execution_count": 18,
   "metadata": {},
   "outputs": [
    {
     "name": "stdout",
     "output_type": "stream",
     "text": [
      "im shape (2030, 1354)\n",
      "dis shape (2030, 1354)\n"
     ]
    }
   ],
   "source": [
    "mod_path = '/Users/dnf/Projects/kcl-fire-aot/data/Americas/raw/modis/l1b/'\n",
    "#mod_file = 'MYD021KM.A2014126.1855.006.2014127191958.hdf'\n",
    "mod_file = 'MYD021KM.A2014217.2020.006.2014218152754.hdf'\n",
    "#mod_file = 'MYD021KM.A2014231.1655.006.2014232153729.hdf'\n",
    "#mod_file = 'MYD021KM.A2014236.1710.006.2014237152811.hdf'\n",
    "#mod_file = 'MYD021KM.A2014252.1710.006.2014253145416.hdf'\n",
    "#mod_file = 'MYD021KM.A2014257.2105.006.2014268131515.hdf'\n",
    "\n",
    "path_mod_data = os.path.join(mod_path, mod_file)\n",
    "modis_data = SD(path_mod_data, SDC.READ)\n",
    "\n",
    "holding_dict = dict()\n",
    "for chan_band_name, chan_data_name in zip(['Band_250M', 'Band_500M', 'Band_1KM_Emissive'],\n",
    "                                                  ['EV_250_Aggr1km_RefSB', 'EV_500_Aggr1km_RefSB', 'EV_1KM_Emissive']):\n",
    "\n",
    "    mod_chan_band = modis_data.select(chan_band_name).get()\n",
    "    mod_chan_data = modis_data.select(chan_data_name).get()\n",
    "    for i, band in enumerate(mod_chan_band):\n",
    "                \n",
    "        if band == 3:\n",
    "            im_for_show = mod_chan_data[i, :, :]\n",
    "            \n",
    "            print 'im shape', im_for_show.shape\n",
    "            \n",
    "            # let generate GLCM texture measures for MODIS band 8\n",
    "            texture_measure, keys = generate_textures(mod_chan_data, i)\n",
    "\n",
    "            for i, k in enumerate(keys):\n",
    "                if k in holding_dict:\n",
    "                    holding_dict[k].extend(list(texture_measure[i]))\n",
    "                else:\n",
    "                    holding_dict[k] = list(texture_measure[i])\n",
    "\n",
    "        # check to see if we are working with a plume subset or an entire image\n",
    "        data_for_band = mod_chan_data[i, :, :]\n",
    "        data_for_band = data_for_band.flatten()\n",
    "\n",
    "        if band in holding_dict:\n",
    "            holding_dict[band].extend(list(data_for_band))\n",
    "        else:\n",
    "            holding_dict[band] = list(data_for_band)"
   ]
  },
  {
   "cell_type": "code",
   "execution_count": 19,
   "metadata": {},
   "outputs": [
    {
     "data": {
      "text/plain": [
       "(2748620, 17)"
      ]
     },
     "execution_count": 19,
     "metadata": {},
     "output_type": "execute_result"
    }
   ],
   "source": [
    "test_df = pd.DataFrame.from_dict(holding_dict)\n",
    "test_df = test_df[channels]\n",
    "test_df.shape"
   ]
  },
  {
   "cell_type": "code",
   "execution_count": 20,
   "metadata": {
    "collapsed": true
   },
   "outputs": [],
   "source": [
    "smoke_mask = rf.predict(test_df)"
   ]
  },
  {
   "cell_type": "code",
   "execution_count": 21,
   "metadata": {
    "collapsed": true
   },
   "outputs": [],
   "source": [
    "smoke_mask = smoke_mask.reshape((2030, 1354))"
   ]
  },
  {
   "cell_type": "markdown",
   "metadata": {},
   "source": [
    "Last thing - do an erosion dilation to get rid of the single pixel noise in the scene."
   ]
  },
  {
   "cell_type": "code",
   "execution_count": 22,
   "metadata": {
    "collapsed": true
   },
   "outputs": [],
   "source": [
    "smoke_mask = ndimage.binary_erosion(smoke_mask)\n",
    "smoke_mask = ndimage.binary_dilation(smoke_mask)"
   ]
  },
  {
   "cell_type": "code",
   "execution_count": 23,
   "metadata": {},
   "outputs": [
    {
     "data": {
      "image/png": "[encoded data removed]",
      "text/plain": [
       "<matplotlib.figure.Figure at 0x119905750>"
      ]
     },
     "metadata": {},
     "output_type": "display_data"
    }
   ],
   "source": [
    "fig = plt.figure(figsize=(25,12))\n",
    "plt.imshow(smoke_mask, cmap='gray', interpolation='none')\n",
    "plt.savefig('smoke_mask.png', bbox_inches='tight')"
   ]
  },
  {
   "cell_type": "code",
   "execution_count": 222,
   "metadata": {},
   "outputs": [
    {
     "data": {
      "image/png": "[encoded data removed]",
      "text/plain": [
       "<matplotlib.figure.Figure at 0x1690447d0>"
      ]
     },
     "metadata": {},
     "output_type": "display_data"
    }
   ],
   "source": [
    "plt.imshow(im_for_show, cmap='gray', interpolation='none')\n",
    "plt.show()"
   ]
  },
  {
   "cell_type": "markdown",
   "metadata": {},
   "source": [
    "## References"
   ]
  },
  {
   "cell_type": "markdown",
   "metadata": {},
   "source": [
    "Image classification with Random Forests: http://ceholden.github.io/open-geo-tutorial/python/chapter_5_classification.html\n",
    "Classification Score on random forests: https://stats.stackexchange.com/questions/125756/classification-score-for-random-forest\n",
    "Parameter tuning in random forests: https://stackoverflow.com/questions/36107820/how-to-tune-parameters-in-random-forest-using-scikit-learn\n",
    "Splitting datasets for cross validation: https://stats.stackexchange.com/questions/95797/how-to-split-the-dataset-for-cross-validation-learning-curve-and-final-evaluat"
   ]
  },
  {
   "cell_type": "code",
   "execution_count": null,
   "metadata": {
    "collapsed": true
   },
   "outputs": [],
   "source": []
  }
 ],
 "metadata": {
  "kernelspec": {
   "display_name": "Python 2",
   "language": "python",
   "name": "python2"
  },
  "language_info": {
   "codemirror_mode": {
    "name": "ipython",
    "version": 2
   },
   "file_extension": ".py",
   "mimetype": "text/x-python",
   "name": "python",
   "nbconvert_exporter": "python",
   "pygments_lexer": "ipython2",
   "version": "2.7.14"
  }
 },
 "nbformat": 4,
 "nbformat_minor": 1
}
