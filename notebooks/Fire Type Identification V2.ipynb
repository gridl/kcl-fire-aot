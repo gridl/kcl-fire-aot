{
 "cells": [
  {
   "cell_type": "code",
   "execution_count": 1,
   "metadata": {},
   "outputs": [],
   "source": [
    "import glob\n",
    "\n",
    "import pandas as pd\n",
    "import numpy as np\n",
    "import matplotlib.pyplot as plt\n",
    "import cartopy.crs as ccrs\n",
    "from matplotlib import animation, rc\n",
    "import matplotlib.colors as colors\n",
    "from IPython.display import HTML"
   ]
  },
  {
   "cell_type": "markdown",
   "metadata": {},
   "source": [
    "First attempt using spectral ratio didn't work too well.  So a new approach working under the assumption that during the earlier stages of a peat fire's life cycle surficial fires will perhaps predominate.  To assess this we can look at the BT characteristics of a given fire and its associated pixels as they progress through time.  "
   ]
  },
  {
   "cell_type": "code",
   "execution_count": 4,
   "metadata": {},
   "outputs": [],
   "source": [
    "# read in the himawari lat and lon data\n",
    "geo_file = '/Users/danielfisher/Projects/kcl-fire-aot/data/Asia/processed/himawari/Himawari_lat_lon.img'\n",
    "geostationary_lats, geostationary_lons = geo_read(geo_file)"
   ]
  },
  {
   "cell_type": "code",
   "execution_count": 5,
   "metadata": {},
   "outputs": [],
   "source": [
    "fires_df = pd.read_pickle('/Users/danielfisher/Projects/kcl-fire-aot/data/Asia/processed/himawari/updated/frp_df.p')"
   ]
  },
  {
   "cell_type": "code",
   "execution_count": 6,
   "metadata": {},
   "outputs": [],
   "source": [
    "# spatial subset to ROI\n",
    "mask = ((fires_df.LATITUDE > -7) & (fires_df.LATITUDE < 4) & \n",
    "        (fires_df.LONGITUDE > 94) & (fires_df.LONGITUDE < 119))\n",
    "fires_df = fires_df[mask]"
   ]
  },
  {
   "cell_type": "code",
   "execution_count": 7,
   "metadata": {},
   "outputs": [],
   "source": [
    "fires_df = fires_df.sort_values('obs_time', ascending=True)\n",
    "fires_df.reset_index(inplace=True)\n",
    "fires_df.drop('index', axis=1, inplace=True)"
   ]
  },
  {
   "cell_type": "code",
   "execution_count": 8,
   "metadata": {},
   "outputs": [
    {
     "name": "stderr",
     "output_type": "stream",
     "text": [
      "/Users/danielfisher/anaconda2/envs/kcl-globalgasflaring/lib/python2.7/site-packages/ipykernel_launcher.py:12: DeprecationWarning: using a non-integer number instead of an integer will result in an error in the future\n",
      "  if sys.path[0] == '':\n",
      "/Users/danielfisher/anaconda2/envs/kcl-globalgasflaring/lib/python2.7/site-packages/ipykernel_launcher.py:19: DeprecationWarning: using a non-integer number instead of an integer will result in an error in the future\n",
      "/Users/danielfisher/anaconda2/envs/kcl-globalgasflaring/lib/python2.7/site-packages/ipykernel_launcher.py:20: DeprecationWarning: using a non-integer number instead of an integer will result in an error in the future\n",
      "/Users/danielfisher/anaconda2/envs/kcl-globalgasflaring/lib/python2.7/site-packages/ipykernel_launcher.py:27: DeprecationWarning: using a non-integer number instead of an integer will result in an error in the future\n",
      "/Users/danielfisher/anaconda2/envs/kcl-globalgasflaring/lib/python2.7/site-packages/ipykernel_launcher.py:33: DeprecationWarning: using a non-integer number instead of an integer will result in an error in the future\n",
      "/Users/danielfisher/anaconda2/envs/kcl-globalgasflaring/lib/python2.7/site-packages/ipykernel_launcher.py:34: DeprecationWarning: using a non-integer number instead of an integer will result in an error in the future\n"
     ]
    }
   ],
   "source": [
    "id_array = np.zeros([5500, 5500])\n",
    "time_array = np.zeros([5500, 5500])\n",
    "\n",
    "fire_ids = fire_ids = np.zeros(fires_df.shape[0]) \n",
    "current_max_fire_id = 1\n",
    "\n",
    "for i, row in fires_df.iterrows():\n",
    "    \n",
    "    l = int(row.ABS_line)\n",
    "    s = int(row.ABS_samp)\n",
    "    \n",
    "    nearby_ids = (id_array[l-1:l+2, s-1:s+2]).flatten()  # get the 3x3 array centred on the current sample\n",
    "    \n",
    "    # convert row obs time to number\n",
    "    row_obs_time = (row.obs_time - np.datetime64('1970-01-01T00:00:00Z')) / np.timedelta64(1, 's')\n",
    "    \n",
    "    # if no previous fires in the 3x3 region\n",
    "    if np.max(nearby_ids) == 0:\n",
    "        id_array[l,s] = current_max_fire_id  # set the id in the array\n",
    "        time_array[l,s] = row_obs_time  # TODO convert time to number\n",
    "        fire_ids[i] = current_max_fire_id  # assign the id\n",
    "        current_max_fire_id += 1  # update the id\n",
    "        \n",
    "    # if there are previous fires in the 3x3 region then find the \n",
    "    # temporally nearest, and use that to update the arrays\n",
    "    else:\n",
    "        nearby_times = (time_array[l-1:l+2, s-1:s+2]).flatten()\n",
    "        nearest_time_index = np.argmin(np.abs(nearby_times - row_obs_time))  # TODO convert time to number\n",
    "        nearest_id = nearby_ids[nearest_time_index]  # get the temporally closest id\n",
    "        nearest_time = nearby_times[nearest_time_index]\n",
    "\n",
    "        # update\n",
    "        id_array[l,s] = nearest_id\n",
    "        time_array[l,s] = nearest_time\n",
    "        fire_ids[i] = nearest_id"
   ]
  },
  {
   "cell_type": "code",
   "execution_count": 9,
   "metadata": {},
   "outputs": [],
   "source": [
    "# append fire ids to df and drop single detections\n",
    "fires_df['fire_id'] = fire_ids\n",
    "fires_df['sample_count'] = 1 \n",
    "fires_df_samples = fires_df.groupby('fire_id', as_index=False).agg({'sample_count': np.sum})\n",
    "fires_df.drop('sample_count', axis=1, inplace=True)\n",
    "\n",
    "# lets keep only more persistent fires\n",
    "fires_df_samples = fires_df_samples[fires_df_samples.sample_count > 48]\n",
    "\n",
    "# now merge \n",
    "subset_fires_df = pd.merge(fires_df, fires_df_samples, on='fire_id')"
   ]
  },
  {
   "cell_type": "code",
   "execution_count": 10,
   "metadata": {},
   "outputs": [],
   "source": [
    "plt_array = np.zeros([5500, 5500])\n",
    "\n",
    "for i_d in subset_fires_df.fire_id.unique():\n",
    "    id_subset = subset_fires_df[subset_fires_df.fire_id == i_d]\n",
    "    plt_array[id_subset.ABS_line.astype(int), id_subset.ABS_samp.astype(int)] = i_d"
   ]
  },
  {
   "cell_type": "code",
   "execution_count": 11,
   "metadata": {},
   "outputs": [
    {
     "name": "stdout",
     "output_type": "stream",
     "text": [
      "94.9436\n",
      "118.994\n",
      "4.78857\n",
      "-8.3221\n"
     ]
    }
   ],
   "source": [
    "min_y = 2500\n",
    "max_y = 3200\n",
    "min_x = 600\n",
    "max_x = 1600\n",
    "\n",
    "print geostationary_lons[min_y, min_x]\n",
    "print geostationary_lons[max_y, max_x]\n",
    "print geostationary_lats[min_y, min_x]\n",
    "print geostationary_lats[max_y, max_x]"
   ]
  },
  {
   "cell_type": "code",
   "execution_count": null,
   "metadata": {},
   "outputs": [],
   "source": [
    "plt.close('all')\n",
    "fig = plt.figure(figsize=(16, 12))\n",
    "\n",
    "lat_subset = geostationary_lats[2500:3200, 600:1600]\n",
    "lon_subset = geostationary_lons[2500:3200, 600:1600]\n",
    "\n",
    "img_extent = (lon_subset[0], \n",
    "              lon_subset[-1], \n",
    "              lat_subset[0], \n",
    "              lat_subset[-1])\n",
    "\n",
    "ax = plt.axes(projection=ccrs.Geostationary(satellite_height=35786000))\n",
    "\n",
    "# set a margin around the data\n",
    "# ax.set_xmargin(0.05)\n",
    "# ax.set_ymargin(0.10)\n",
    "\n",
    "# add the image. Because this image was a tif, the \"origin\" of the image is in the\n",
    "# upper left corner\n",
    "ax.imshow(plt_array[2500:3200, 600:1600], origin='upper', extent=img_extent, transform=ccrs.PlateCarree())\n",
    "ax.coastlines(resolution='50m', color='white', linewidth=1)\n",
    "\n",
    "# # mark a known place to help us geo-locate ourselves\n",
    "# ax.plot(-117.1625, 32.715, 'bo', markersize=7, transform=ccrs.Geodetic())\n",
    "# ax.text(-117, 33, 'San Diego', transform=ccrs.Geodetic())\n",
    "\n",
    "plt.show()"
   ]
  },
  {
   "cell_type": "code",
   "execution_count": null,
   "metadata": {},
   "outputs": [],
   "source": [
    "plt.figure(figsize=(16,12))\n",
    "plt.imshow(plt_array[2500:3200, 600:1600], cmap='tab20c', vmin=0)\n",
    "plt.show()"
   ]
  },
  {
   "cell_type": "code",
   "execution_count": null,
   "metadata": {},
   "outputs": [],
   "source": [
    "plt.close('all')\n",
    "anim = animate_timeseries(subset_fires_df)\n",
    "HTML(anim.to_html5_video())"
   ]
  },
  {
   "cell_type": "markdown",
   "metadata": {},
   "source": [
    "# Utils:"
   ]
  },
  {
   "cell_type": "code",
   "execution_count": 2,
   "metadata": {},
   "outputs": [],
   "source": [
    "# Animation function\n",
    "\n",
    "plt.close('all')\n",
    "\n",
    "def animate_timeseries(df, interval=300):\n",
    "\n",
    "    # lets have a look at this issue with the monthly stuff\n",
    "    lon_list = []\n",
    "    lat_list = []\n",
    "    date_list = []\n",
    "    stat_list = []\n",
    "    \n",
    "    # set up agg dict based on whether looking at frp or counts\n",
    "    agg_dict = {'counts': np.sum, 'lats': np.mean, 'lons': np.mean}\n",
    "    plt_cmap = plt.get_cmap('plasma')\n",
    "\n",
    "    unique_times = df.obs_time.unique()\n",
    "    for i, t in enumerate(unique_times):\n",
    "        \n",
    "        t_df = df[(df.obs_time == t)]\n",
    "        lon_list.append(t_df.LONGITUDE.values)\n",
    "        lat_list.append(t_df.LATITUDE.values)\n",
    "        date_list.append(t)\n",
    "        stat_list.append(t_df.fire_id.values)\n",
    "        \n",
    "        if i == 60:\n",
    "            break\n",
    "\n",
    "    # Create new Figure and an Axes which fills it.\n",
    "    fig = plt.figure(figsize=(12,7))\n",
    "    ax = plt.axes(projection=ccrs.PlateCarree())\n",
    "\n",
    "    ax.set_xlim(( 94, 119))\n",
    "    ax.set_ylim((-7, 4))\n",
    "    ax.coastlines()\n",
    "\n",
    "    # Construct the scatter which we will update during animation\n",
    "    # as the raindrops develop.\n",
    "    scat = ax.scatter(lon_list[0], lat_list[0],\n",
    "                      s=100000, lw=0.5, \n",
    "                      edgecolors='None',\n",
    "                      facecolor=plt_cmap((stat_list[0]-np.min(stat_list[0]))/\n",
    "                                         (np.max(stat_list[0])-np.min(stat_list[0]))))\n",
    "    #cbar = plt.colorbar(mappable=scat, ax=ax)\n",
    "    date_text = ax.text(0.05, 0.4, '', transform=ax.transAxes)\n",
    "\n",
    "    def update(i):\n",
    "        # Update the scatter collection, with the new colors, sizes and positions.\n",
    "        #scat.set_array(frp_list[i])\n",
    "        scat.set_facecolor(plt_cmap((stat_list[i]-np.min(stat_list[i]))/\n",
    "                                    (np.max(stat_list[i])-np.min(stat_list[i]))))\n",
    "        scat.set_sizes(np.ones(stat_list[i].size*100000))\n",
    "        scat.set_offsets(np.array(zip(lon_list[i], lat_list[i])))\n",
    "        date_text.set_text(\"Date = {}\".format(date_list[i]))\n",
    "        \n",
    "            \n",
    "\n",
    "    # # Construct the animation, using the update function as the animation\n",
    "    # # director.\n",
    "    anim = animation.FuncAnimation(fig, update, frames=len(lon_list), interval=interval)\n",
    "    return anim"
   ]
  },
  {
   "cell_type": "code",
   "execution_count": null,
   "metadata": {},
   "outputs": [],
   "source": [
    "def build_frp_df(path):\n",
    "    '''\n",
    "\n",
    "    :param path: path to the frp csv files and dataframe\n",
    "    :return: dataframe holding frp\n",
    "    '''\n",
    "    frp_csv_files = glob.glob(path + '*.csv')\n",
    "    df_from_each_file = (pd.read_csv(f) for f in frp_csv_files)\n",
    "    frp_df = pd.concat(df_from_each_file, ignore_index=True)\n",
    "\n",
    "    # keep only columns on interest\n",
    "    frp_df = frp_df[['FIRE_CONFIDENCE', 'ABS_line', 'ABS_samp', 'BT_MIR', 'BT_TIR',\n",
    "                     'FRP_0', 'LATITUDE', 'LONGITUDE', 'year', 'month', 'day', 'time']]\n",
    "\n",
    "    # reindex onto date\n",
    "    for k in ['year', 'month', 'day', 'time']:\n",
    "        frp_df[k] = frp_df[k].astype(int).astype(str)\n",
    "        if k == 'time':\n",
    "            frp_df[k] = frp_df[k].str.zfill(4)\n",
    "        if k in ['month', 'day']:\n",
    "            frp_df[k] = frp_df[k].str.zfill(2)\n",
    "\n",
    "    format = '%Y%m%d%H%M'\n",
    "    frp_df['obs_time'] = pd.to_datetime(frp_df['year'] +\n",
    "                                        frp_df['month'] +\n",
    "                                        frp_df['day'] +\n",
    "                                        frp_df['time'], format=format)\n",
    "    frp_df['obs_date'] = frp_df['obs_time'].dt.date\n",
    "\n",
    "    # drop columns we dont needs\n",
    "    #frp_df.drop(['LONGITUDE', 'LATITUDE'], axis=1, inplace=True)\n",
    "    frp_df.drop(['year', 'month', 'day', 'time'], axis=1, inplace=True)\n",
    "\n",
    "    frp_df.to_pickle(path + 'frp_df.p')\n",
    "    \n",
    "build_frp_df('/Users/danielfisher/Projects/kcl-fire-aot/data/Asia/processed/himawari/updated/')"
   ]
  },
  {
   "cell_type": "code",
   "execution_count": 3,
   "metadata": {},
   "outputs": [],
   "source": [
    "def geo_read(f, verbose=False):\n",
    "    \"\"\"\n",
    "    read in the static data like view angle, landcover\n",
    "    put them in a data dictionary\n",
    "    \"\"\"\n",
    "    dim = 5500  # hard coded for Himawari8 possible it is 5500 in which case we need to zoom\n",
    "    if verbose:\n",
    "        print 'reading file %s' % f\n",
    "    dtype = np.float32\n",
    "    shape = (2, dim, dim)\n",
    "    data = np.fromfile(f, dtype=dtype).reshape(shape)\n",
    "    lat = data[0, :, :].astype(dtype)\n",
    "    lon = data[1, :, :].astype(dtype)\n",
    "    return lat, lon"
   ]
  },
  {
   "cell_type": "markdown",
   "metadata": {},
   "source": [
    "Caveat/Issue List:\n",
    "* May not capture a fire in its early stages\n",
    "* Adjacent fires may not be related, but working under the assumption tha they are.  \n"
   ]
  }
 ],
 "metadata": {
  "kernelspec": {
   "display_name": "Python 2",
   "language": "python",
   "name": "python2"
  },
  "language_info": {
   "codemirror_mode": {
    "name": "ipython",
    "version": 2
   },
   "file_extension": ".py",
   "mimetype": "text/x-python",
   "name": "python",
   "nbconvert_exporter": "python",
   "pygments_lexer": "ipython2",
   "version": "2.7.13"
  }
 },
 "nbformat": 4,
 "nbformat_minor": 2
}
