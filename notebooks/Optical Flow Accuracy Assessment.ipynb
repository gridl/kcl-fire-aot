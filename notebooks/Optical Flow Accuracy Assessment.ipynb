{
 "cells": [
  {
   "cell_type": "markdown",
   "metadata": {},
   "source": [
    "The objective of this notebook is to assess the qaulity of the optical flow algorithm that has been developed to track plumes in the himawari imagery.  Various approaches exist to do this, for example comparing against atmospheric motion vectors from other sensors, models etc.  However, in this we will lose some accuracy when converting between the various components.  A simpler and more straightforward approach is to check the shifts between cloud free images, assuming the shifts are near zero, then it would imply that the tracking algorithm has the potential to accurately measure the motion of features within the imagery.  This is referred to as a zero-wind assessment."
   ]
  },
  {
   "cell_type": "code",
   "execution_count": 1,
   "metadata": {},
   "outputs": [],
   "source": [
    "import sys\n",
    "sys.path.append(\"/Users/danielfisher/Projects/kcl-fire-aot\") # go to parent dir\n",
    "import src.data.readers.load_hrit as load_hrit\n",
    "\n",
    "import datetime\n",
    "\n",
    "import scipy.ndimage as ndimage\n",
    "import numpy as np"
   ]
  },
  {
   "cell_type": "code",
   "execution_count": 16,
   "metadata": {},
   "outputs": [],
   "source": [
    "in_root = '/Volumes/INTENSO/him_downlaod'\n",
    "# root for the output files\n",
    "time_key = \"201507060000\"\n",
    "data = load_h8(in_root, time_key, path_tree=\"HSFD\")"
   ]
  },
  {
   "cell_type": "code",
   "execution_count": 19,
   "metadata": {},
   "outputs": [],
   "source": [
    "new_data = collocate_imagery(data, 5)"
   ]
  },
  {
   "cell_type": "code",
   "execution_count": 21,
   "metadata": {},
   "outputs": [
    {
     "name": "stdout",
     "output_type": "stream",
     "text": [
      "(2200, 22000)\n",
      "(2200, 22000)\n",
      "(2200, 22000)\n",
      "(2200, 22000)\n",
      "(2200, 22000)\n",
      "(2200, 22000)\n",
      "(2200, 22000)\n",
      "(2200, 22000)\n",
      "(2200, 22000)\n",
      "(2200, 22000)\n",
      "(2200, 22000)\n",
      "(2200, 22000)\n",
      "(2200, 22000)\n",
      "(2200, 22000)\n",
      "(2200, 22000)\n",
      "(2200, 22000)\n",
      "(2200, 22000)\n"
     ]
    }
   ],
   "source": [
    "for k in new_data:\n",
    "    print new_data[k].shape"
   ]
  },
  {
   "cell_type": "code",
   "execution_count": 18,
   "metadata": {},
   "outputs": [],
   "source": [
    "def collocate_imagery(data, seg):\n",
    "    new_data = data.copy()\n",
    "    for k in new_data.keys():\n",
    "        if new_data[k].shape[0] == 2200:\n",
    "            continue\n",
    "        elif new_data[k].shape[0] == 550:\n",
    "            new_data[k] = ndimage.zoom(new_data[k], 4)\n",
    "        elif new_data[k].shape[0] == 5500:\n",
    "            y0 = (seg-1)*550\n",
    "            y1 = y0+550\n",
    "            subset = new_data[k][y0:y1,:]\n",
    "            new_data[k] = ndimage.zoom(subset, 4)\n",
    "    return new_data\n",
    "            \n",
    "            "
   ]
  },
  {
   "cell_type": "code",
   "execution_count": 15,
   "metadata": {},
   "outputs": [],
   "source": [
    "def load_h8(in_root, time_key, path_tree=None, mode=0):\n",
    "    \"\"\"\n",
    "    load all the data and put them in a dictionary\n",
    "    \"\"\"\n",
    "    # firstly setup the path dictionary\n",
    "    EO_path_dict = load_hrit.paths(in_root, time_key=time_key, path_tree=path_tree, mode=0)\n",
    "\n",
    "    # readin all the Himawari files here\n",
    "    EO_data = load_hrit.Himawari_read(EO_path_dict)\n",
    "    # construt a static data dictionary\n",
    "    static_path_dict = load_hrit.paths(in_root)\n",
    "    # readin all static data here\n",
    "    static_data = load_hrit.static_read(static_path_dict)\n",
    "    \n",
    "    szen, saa = load_hrit.sun_angles(static_data['lat'], static_data['lon'], time_key)\n",
    "    # get the sun glint angle\n",
    "    sun_glint = load_hrit.sunglint(static_data['vza'], static_data['vaa'], szen, saa)\n",
    "    \n",
    "    # combine EO and static data together\n",
    "    EO_data.update(static_data)\n",
    "    EO_data['szen'] = szen\n",
    "    EO_data['sun_glint'] = sun_glint\n",
    "    EO_data['ACQTIME'] = np.zeros(EO_data['ir39'].shape, dtype=np.int8)\n",
    "    \n",
    "    return EO_data\n"
   ]
  },
  {
   "cell_type": "code",
   "execution_count": null,
   "metadata": {},
   "outputs": [],
   "source": []
  }
 ],
 "metadata": {
  "kernelspec": {
   "display_name": "Python 2",
   "language": "python",
   "name": "python2"
  },
  "language_info": {
   "codemirror_mode": {
    "name": "ipython",
    "version": 2
   },
   "file_extension": ".py",
   "mimetype": "text/x-python",
   "name": "python",
   "nbconvert_exporter": "python",
   "pygments_lexer": "ipython2",
   "version": "2.7.13"
  }
 },
 "nbformat": 4,
 "nbformat_minor": 2
}
